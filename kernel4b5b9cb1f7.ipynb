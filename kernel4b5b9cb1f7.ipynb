{
 "cells": [
  {
   "cell_type": "code",
   "execution_count": 9,
   "metadata": {
    "_cell_guid": "b1076dfc-b9ad-4769-8c92-a6c4dae69d19",
    "_uuid": "8f2839f25d086af736a60e9eeb907d3b93b6e0e5"
   },
   "outputs": [],
   "source": [
    "import numpy as np # linear algebra\n",
    "import pandas as pd # data processing, CSV file I/O (e.g. pd.read_csv)"
   ]
  },
  {
   "cell_type": "code",
   "execution_count": 14,
   "metadata": {
    "_cell_guid": "79c7e3d0-c299-4dcb-8224-4455121ee9b0",
    "_uuid": "d629ff2d2480ee46fbb7e2d37f6b5fab8052498a"
   },
   "outputs": [
    {
     "data": {
      "text/html": [
       "<div>\n",
       "<style scoped>\n",
       "    .dataframe tbody tr th:only-of-type {\n",
       "        vertical-align: middle;\n",
       "    }\n",
       "\n",
       "    .dataframe tbody tr th {\n",
       "        vertical-align: top;\n",
       "    }\n",
       "\n",
       "    .dataframe thead th {\n",
       "        text-align: right;\n",
       "    }\n",
       "</style>\n",
       "<table border=\"1\" class=\"dataframe\">\n",
       "  <thead>\n",
       "    <tr style=\"text-align: right;\">\n",
       "      <th></th>\n",
       "      <th>encounter_id</th>\n",
       "      <th>patient_nbr</th>\n",
       "      <th>race</th>\n",
       "      <th>gender</th>\n",
       "      <th>age</th>\n",
       "      <th>weight</th>\n",
       "      <th>admission_type_id</th>\n",
       "      <th>discharge_disposition_id</th>\n",
       "      <th>admission_source_id</th>\n",
       "      <th>time_in_hospital</th>\n",
       "      <th>...</th>\n",
       "      <th>citoglipton</th>\n",
       "      <th>insulin</th>\n",
       "      <th>glyburide-metformin</th>\n",
       "      <th>glipizide-metformin</th>\n",
       "      <th>glimepiride-pioglitazone</th>\n",
       "      <th>metformin-rosiglitazone</th>\n",
       "      <th>metformin-pioglitazone</th>\n",
       "      <th>change</th>\n",
       "      <th>diabetesMed</th>\n",
       "      <th>readmitted</th>\n",
       "    </tr>\n",
       "  </thead>\n",
       "  <tbody>\n",
       "    <tr>\n",
       "      <th>0</th>\n",
       "      <td>2278392</td>\n",
       "      <td>8222157</td>\n",
       "      <td>Caucasian</td>\n",
       "      <td>Female</td>\n",
       "      <td>[0-10)</td>\n",
       "      <td>?</td>\n",
       "      <td>6</td>\n",
       "      <td>25</td>\n",
       "      <td>1</td>\n",
       "      <td>1</td>\n",
       "      <td>...</td>\n",
       "      <td>No</td>\n",
       "      <td>No</td>\n",
       "      <td>No</td>\n",
       "      <td>No</td>\n",
       "      <td>No</td>\n",
       "      <td>No</td>\n",
       "      <td>No</td>\n",
       "      <td>No</td>\n",
       "      <td>No</td>\n",
       "      <td>NO</td>\n",
       "    </tr>\n",
       "    <tr>\n",
       "      <th>1</th>\n",
       "      <td>149190</td>\n",
       "      <td>55629189</td>\n",
       "      <td>Caucasian</td>\n",
       "      <td>Female</td>\n",
       "      <td>[10-20)</td>\n",
       "      <td>?</td>\n",
       "      <td>1</td>\n",
       "      <td>1</td>\n",
       "      <td>7</td>\n",
       "      <td>3</td>\n",
       "      <td>...</td>\n",
       "      <td>No</td>\n",
       "      <td>Up</td>\n",
       "      <td>No</td>\n",
       "      <td>No</td>\n",
       "      <td>No</td>\n",
       "      <td>No</td>\n",
       "      <td>No</td>\n",
       "      <td>Ch</td>\n",
       "      <td>Yes</td>\n",
       "      <td>&gt;30</td>\n",
       "    </tr>\n",
       "    <tr>\n",
       "      <th>2</th>\n",
       "      <td>64410</td>\n",
       "      <td>86047875</td>\n",
       "      <td>AfricanAmerican</td>\n",
       "      <td>Female</td>\n",
       "      <td>[20-30)</td>\n",
       "      <td>?</td>\n",
       "      <td>1</td>\n",
       "      <td>1</td>\n",
       "      <td>7</td>\n",
       "      <td>2</td>\n",
       "      <td>...</td>\n",
       "      <td>No</td>\n",
       "      <td>No</td>\n",
       "      <td>No</td>\n",
       "      <td>No</td>\n",
       "      <td>No</td>\n",
       "      <td>No</td>\n",
       "      <td>No</td>\n",
       "      <td>No</td>\n",
       "      <td>Yes</td>\n",
       "      <td>NO</td>\n",
       "    </tr>\n",
       "    <tr>\n",
       "      <th>3</th>\n",
       "      <td>500364</td>\n",
       "      <td>82442376</td>\n",
       "      <td>Caucasian</td>\n",
       "      <td>Male</td>\n",
       "      <td>[30-40)</td>\n",
       "      <td>?</td>\n",
       "      <td>1</td>\n",
       "      <td>1</td>\n",
       "      <td>7</td>\n",
       "      <td>2</td>\n",
       "      <td>...</td>\n",
       "      <td>No</td>\n",
       "      <td>Up</td>\n",
       "      <td>No</td>\n",
       "      <td>No</td>\n",
       "      <td>No</td>\n",
       "      <td>No</td>\n",
       "      <td>No</td>\n",
       "      <td>Ch</td>\n",
       "      <td>Yes</td>\n",
       "      <td>NO</td>\n",
       "    </tr>\n",
       "    <tr>\n",
       "      <th>4</th>\n",
       "      <td>16680</td>\n",
       "      <td>42519267</td>\n",
       "      <td>Caucasian</td>\n",
       "      <td>Male</td>\n",
       "      <td>[40-50)</td>\n",
       "      <td>?</td>\n",
       "      <td>1</td>\n",
       "      <td>1</td>\n",
       "      <td>7</td>\n",
       "      <td>1</td>\n",
       "      <td>...</td>\n",
       "      <td>No</td>\n",
       "      <td>Steady</td>\n",
       "      <td>No</td>\n",
       "      <td>No</td>\n",
       "      <td>No</td>\n",
       "      <td>No</td>\n",
       "      <td>No</td>\n",
       "      <td>Ch</td>\n",
       "      <td>Yes</td>\n",
       "      <td>NO</td>\n",
       "    </tr>\n",
       "  </tbody>\n",
       "</table>\n",
       "<p>5 rows × 50 columns</p>\n",
       "</div>"
      ],
      "text/plain": [
       "   encounter_id  patient_nbr             race  gender      age weight  \\\n",
       "0       2278392      8222157        Caucasian  Female   [0-10)      ?   \n",
       "1        149190     55629189        Caucasian  Female  [10-20)      ?   \n",
       "2         64410     86047875  AfricanAmerican  Female  [20-30)      ?   \n",
       "3        500364     82442376        Caucasian    Male  [30-40)      ?   \n",
       "4         16680     42519267        Caucasian    Male  [40-50)      ?   \n",
       "\n",
       "   admission_type_id  discharge_disposition_id  admission_source_id  \\\n",
       "0                  6                        25                    1   \n",
       "1                  1                         1                    7   \n",
       "2                  1                         1                    7   \n",
       "3                  1                         1                    7   \n",
       "4                  1                         1                    7   \n",
       "\n",
       "   time_in_hospital    ...     citoglipton insulin  glyburide-metformin  \\\n",
       "0                 1    ...              No      No                   No   \n",
       "1                 3    ...              No      Up                   No   \n",
       "2                 2    ...              No      No                   No   \n",
       "3                 2    ...              No      Up                   No   \n",
       "4                 1    ...              No  Steady                   No   \n",
       "\n",
       "   glipizide-metformin  glimepiride-pioglitazone  metformin-rosiglitazone  \\\n",
       "0                   No                        No                       No   \n",
       "1                   No                        No                       No   \n",
       "2                   No                        No                       No   \n",
       "3                   No                        No                       No   \n",
       "4                   No                        No                       No   \n",
       "\n",
       "   metformin-pioglitazone  change diabetesMed readmitted  \n",
       "0                      No      No          No         NO  \n",
       "1                      No      Ch         Yes        >30  \n",
       "2                      No      No         Yes         NO  \n",
       "3                      No      Ch         Yes         NO  \n",
       "4                      No      Ch         Yes         NO  \n",
       "\n",
       "[5 rows x 50 columns]"
      ]
     },
     "execution_count": 14,
     "metadata": {},
     "output_type": "execute_result"
    }
   ],
   "source": [
    "df = pd.read_csv(\"data/diabetic_data.csv\")\n",
    "df.head()"
   ]
  },
  {
   "cell_type": "code",
   "execution_count": 30,
   "metadata": {},
   "outputs": [
    {
     "data": {
      "text/plain": [
       "(101766, 50)"
      ]
     },
     "execution_count": 30,
     "metadata": {},
     "output_type": "execute_result"
    }
   ],
   "source": [
    "df.shape"
   ]
  },
  {
   "cell_type": "code",
   "execution_count": 32,
   "metadata": {},
   "outputs": [
    {
     "data": {
      "text/plain": [
       "encounter_id                 int64\n",
       "patient_nbr                  int64\n",
       "race                        object\n",
       "gender                      object\n",
       "age                         object\n",
       "weight                      object\n",
       "admission_type_id            int64\n",
       "discharge_disposition_id     int64\n",
       "admission_source_id          int64\n",
       "time_in_hospital             int64\n",
       "payer_code                  object\n",
       "medical_specialty           object\n",
       "num_lab_procedures           int64\n",
       "num_procedures               int64\n",
       "num_medications              int64\n",
       "number_outpatient            int64\n",
       "number_emergency             int64\n",
       "number_inpatient             int64\n",
       "diag_1                      object\n",
       "diag_2                      object\n",
       "diag_3                      object\n",
       "number_diagnoses             int64\n",
       "max_glu_serum               object\n",
       "A1Cresult                   object\n",
       "metformin                   object\n",
       "repaglinide                 object\n",
       "nateglinide                 object\n",
       "chlorpropamide              object\n",
       "glimepiride                 object\n",
       "acetohexamide               object\n",
       "glipizide                   object\n",
       "glyburide                   object\n",
       "tolbutamide                 object\n",
       "pioglitazone                object\n",
       "rosiglitazone               object\n",
       "acarbose                    object\n",
       "miglitol                    object\n",
       "troglitazone                object\n",
       "tolazamide                  object\n",
       "examide                     object\n",
       "citoglipton                 object\n",
       "insulin                     object\n",
       "glyburide-metformin         object\n",
       "glipizide-metformin         object\n",
       "glimepiride-pioglitazone    object\n",
       "metformin-rosiglitazone     object\n",
       "metformin-pioglitazone      object\n",
       "change                      object\n",
       "diabetesMed                 object\n",
       "readmitted                  object\n",
       "dtype: object"
      ]
     },
     "execution_count": 32,
     "metadata": {},
     "output_type": "execute_result"
    }
   ],
   "source": [
    "df.dtypes"
   ]
  },
  {
   "cell_type": "code",
   "execution_count": 34,
   "metadata": {},
   "outputs": [
    {
     "name": "stdout",
     "output_type": "stream",
     "text": [
      "race 2273\n",
      "gender 0\n",
      "age 0\n",
      "weight 98569\n",
      "payer_code 40256\n",
      "medical_specialty 49949\n",
      "diag_1 21\n",
      "diag_2 358\n",
      "diag_3 1423\n",
      "max_glu_serum 0\n",
      "A1Cresult 0\n",
      "metformin 0\n",
      "repaglinide 0\n",
      "nateglinide 0\n",
      "chlorpropamide 0\n",
      "glimepiride 0\n",
      "acetohexamide 0\n",
      "glipizide 0\n",
      "glyburide 0\n",
      "tolbutamide 0\n",
      "pioglitazone 0\n",
      "rosiglitazone 0\n",
      "acarbose 0\n",
      "miglitol 0\n",
      "troglitazone 0\n",
      "tolazamide 0\n",
      "examide 0\n",
      "citoglipton 0\n",
      "insulin 0\n",
      "glyburide-metformin 0\n",
      "glipizide-metformin 0\n",
      "glimepiride-pioglitazone 0\n",
      "metformin-rosiglitazone 0\n",
      "metformin-pioglitazone 0\n",
      "change 0\n",
      "diabetesMed 0\n",
      "readmitted 0\n"
     ]
    }
   ],
   "source": [
    "for col in df.columns:\n",
    "    if(df[col].dtypes==\"object\"):\n",
    "         print(col,df[col][df[col] == '?'].count())"
   ]
  },
  {
   "cell_type": "code",
   "execution_count": 36,
   "metadata": {},
   "outputs": [
    {
     "data": {
      "text/plain": [
       "518      ?\n",
       "1006     ?\n",
       "1267     ?\n",
       "1488     ?\n",
       "3197     ?\n",
       "7845     ?\n",
       "14503    ?\n",
       "19714    ?\n",
       "32514    ?\n",
       "37693    ?\n",
       "49516    ?\n",
       "56931    ?\n",
       "57058    ?\n",
       "57737    ?\n",
       "60314    ?\n",
       "61369    ?\n",
       "61763    ?\n",
       "66848    ?\n",
       "86018    ?\n",
       "87181    ?\n",
       "98396    ?\n",
       "Name: diag_1, dtype: object"
      ]
     },
     "execution_count": 36,
     "metadata": {},
     "output_type": "execute_result"
    }
   ],
   "source": [
    "df['diag_1'][df['diag_1'] == '?']"
   ]
  },
  {
   "cell_type": "code",
   "execution_count": 38,
   "metadata": {},
   "outputs": [
    {
     "data": {
      "text/plain": [
       "encounter_id                101766\n",
       "patient_nbr                  71518\n",
       "race                             6\n",
       "gender                           3\n",
       "age                             10\n",
       "weight                          10\n",
       "admission_type_id                8\n",
       "discharge_disposition_id        26\n",
       "admission_source_id             17\n",
       "time_in_hospital                14\n",
       "payer_code                      18\n",
       "medical_specialty               73\n",
       "num_lab_procedures             118\n",
       "num_procedures                   7\n",
       "num_medications                 75\n",
       "number_outpatient               39\n",
       "number_emergency                33\n",
       "number_inpatient                21\n",
       "diag_1                         717\n",
       "diag_2                         749\n",
       "diag_3                         790\n",
       "number_diagnoses                16\n",
       "max_glu_serum                    4\n",
       "A1Cresult                        4\n",
       "metformin                        4\n",
       "repaglinide                      4\n",
       "nateglinide                      4\n",
       "chlorpropamide                   4\n",
       "glimepiride                      4\n",
       "acetohexamide                    2\n",
       "glipizide                        4\n",
       "glyburide                        4\n",
       "tolbutamide                      2\n",
       "pioglitazone                     4\n",
       "rosiglitazone                    4\n",
       "acarbose                         4\n",
       "miglitol                         4\n",
       "troglitazone                     2\n",
       "tolazamide                       3\n",
       "examide                          1\n",
       "citoglipton                      1\n",
       "insulin                          4\n",
       "glyburide-metformin              4\n",
       "glipizide-metformin              2\n",
       "glimepiride-pioglitazone         2\n",
       "metformin-rosiglitazone          2\n",
       "metformin-pioglitazone           2\n",
       "change                           2\n",
       "diabetesMed                      2\n",
       "readmitted                       3\n",
       "dtype: int64"
      ]
     },
     "execution_count": 38,
     "metadata": {},
     "output_type": "execute_result"
    }
   ],
   "source": [
    "df.nunique()"
   ]
  },
  {
   "cell_type": "code",
   "execution_count": 40,
   "metadata": {},
   "outputs": [
    {
     "data": {
      "text/plain": [
       "count    1.017660e+05\n",
       "mean     5.433040e+07\n",
       "std      3.869636e+07\n",
       "min      1.350000e+02\n",
       "25%      2.341322e+07\n",
       "50%      4.550514e+07\n",
       "75%      8.754595e+07\n",
       "max      1.895026e+08\n",
       "Name: patient_nbr, dtype: float64"
      ]
     },
     "execution_count": 40,
     "metadata": {},
     "output_type": "execute_result"
    }
   ],
   "source": [
    "df.patient_nbr.describe()"
   ]
  },
  {
   "cell_type": "code",
   "execution_count": 67,
   "metadata": {},
   "outputs": [
    {
     "data": {
      "text/plain": [
       "readmitted\n",
       "<30    11357\n",
       ">30    35545\n",
       "NO     54864\n",
       "dtype: int64"
      ]
     },
     "execution_count": 67,
     "metadata": {},
     "output_type": "execute_result"
    }
   ],
   "source": [
    "df.groupby('readmitted').size()"
   ]
  },
  {
   "cell_type": "code",
   "execution_count": 69,
   "metadata": {},
   "outputs": [
    {
     "data": {
      "text/plain": [
       "gender\n",
       "Female             54708\n",
       "Male               47055\n",
       "Unknown/Invalid        3\n",
       "dtype: int64"
      ]
     },
     "execution_count": 69,
     "metadata": {},
     "output_type": "execute_result"
    }
   ],
   "source": [
    "df.groupby('gender').size()"
   ]
  },
  {
   "cell_type": "code",
   "execution_count": 71,
   "metadata": {},
   "outputs": [
    {
     "data": {
      "text/plain": [
       "age\n",
       "[0-10)        161\n",
       "[10-20)       691\n",
       "[20-30)      1657\n",
       "[30-40)      3775\n",
       "[40-50)      9685\n",
       "[50-60)     17256\n",
       "[60-70)     22483\n",
       "[70-80)     26068\n",
       "[80-90)     17197\n",
       "[90-100)     2793\n",
       "dtype: int64"
      ]
     },
     "execution_count": 71,
     "metadata": {},
     "output_type": "execute_result"
    }
   ],
   "source": [
    "df.groupby('age').size()"
   ]
  },
  {
   "cell_type": "code",
   "execution_count": 72,
   "metadata": {
    "_kg_hide-input": true
   },
   "outputs": [],
   "source": [
    "df1 = df.drop(['weight','payer_code','medical_specialty'], axis = 1)"
   ]
  },
  {
   "cell_type": "code",
   "execution_count": 73,
   "metadata": {},
   "outputs": [
    {
     "data": {
      "text/plain": [
       "encounter_id                101766\n",
       "patient_nbr                  71518\n",
       "race                             6\n",
       "gender                           3\n",
       "age                             10\n",
       "admission_type_id                8\n",
       "discharge_disposition_id        26\n",
       "admission_source_id             17\n",
       "time_in_hospital                14\n",
       "num_lab_procedures             118\n",
       "num_procedures                   7\n",
       "num_medications                 75\n",
       "number_outpatient               39\n",
       "number_emergency                33\n",
       "number_inpatient                21\n",
       "diag_1                         717\n",
       "diag_2                         749\n",
       "diag_3                         790\n",
       "number_diagnoses                16\n",
       "max_glu_serum                    4\n",
       "A1Cresult                        4\n",
       "metformin                        4\n",
       "repaglinide                      4\n",
       "nateglinide                      4\n",
       "chlorpropamide                   4\n",
       "glimepiride                      4\n",
       "acetohexamide                    2\n",
       "glipizide                        4\n",
       "glyburide                        4\n",
       "tolbutamide                      2\n",
       "pioglitazone                     4\n",
       "rosiglitazone                    4\n",
       "acarbose                         4\n",
       "miglitol                         4\n",
       "troglitazone                     2\n",
       "tolazamide                       3\n",
       "examide                          1\n",
       "citoglipton                      1\n",
       "insulin                          4\n",
       "glyburide-metformin              4\n",
       "glipizide-metformin              2\n",
       "glimepiride-pioglitazone         2\n",
       "metformin-rosiglitazone          2\n",
       "metformin-pioglitazone           2\n",
       "change                           2\n",
       "diabetesMed                      2\n",
       "readmitted                       3\n",
       "dtype: int64"
      ]
     },
     "execution_count": 73,
     "metadata": {},
     "output_type": "execute_result"
    }
   ],
   "source": [
    "df1.nunique()"
   ]
  },
  {
   "cell_type": "code",
   "execution_count": 74,
   "metadata": {},
   "outputs": [],
   "source": [
    "df1 = df1.drop(['examide','citoglipton'], axis=1)"
   ]
  },
  {
   "cell_type": "code",
   "execution_count": 75,
   "metadata": {},
   "outputs": [
    {
     "data": {
      "text/plain": [
       "admission_type_id\n",
       "1    53990\n",
       "2    18480\n",
       "3    18869\n",
       "4       10\n",
       "5     4785\n",
       "6     5291\n",
       "7       21\n",
       "8      320\n",
       "dtype: int64"
      ]
     },
     "execution_count": 75,
     "metadata": {},
     "output_type": "execute_result"
    }
   ],
   "source": [
    "df1.groupby('admission_type_id').size()"
   ]
  },
  {
   "cell_type": "code",
   "execution_count": 76,
   "metadata": {},
   "outputs": [],
   "source": [
    "\n",
    "df1.admission_type_id.replace(\n",
    "list(range(1,9)),['Emergency',\n",
    "'Urgent',\n",
    "'Elective',\n",
    "'Newborn',\n",
    "'Not Available',\n",
    "'NULL',\n",
    "'Trauma Center',\n",
    "'Not Mapped'], inplace=True)"
   ]
  },
  {
   "cell_type": "code",
   "execution_count": 77,
   "metadata": {},
   "outputs": [
    {
     "data": {
      "text/html": [
       "<div>\n",
       "<style scoped>\n",
       "    .dataframe tbody tr th:only-of-type {\n",
       "        vertical-align: middle;\n",
       "    }\n",
       "\n",
       "    .dataframe tbody tr th {\n",
       "        vertical-align: top;\n",
       "    }\n",
       "\n",
       "    .dataframe thead th {\n",
       "        text-align: right;\n",
       "    }\n",
       "</style>\n",
       "<table border=\"1\" class=\"dataframe\">\n",
       "  <thead>\n",
       "    <tr style=\"text-align: right;\">\n",
       "      <th></th>\n",
       "      <th>encounter_id</th>\n",
       "      <th>patient_nbr</th>\n",
       "      <th>race</th>\n",
       "      <th>gender</th>\n",
       "      <th>age</th>\n",
       "      <th>admission_type_id</th>\n",
       "      <th>discharge_disposition_id</th>\n",
       "      <th>admission_source_id</th>\n",
       "      <th>time_in_hospital</th>\n",
       "      <th>num_lab_procedures</th>\n",
       "      <th>...</th>\n",
       "      <th>tolazamide</th>\n",
       "      <th>insulin</th>\n",
       "      <th>glyburide-metformin</th>\n",
       "      <th>glipizide-metformin</th>\n",
       "      <th>glimepiride-pioglitazone</th>\n",
       "      <th>metformin-rosiglitazone</th>\n",
       "      <th>metformin-pioglitazone</th>\n",
       "      <th>change</th>\n",
       "      <th>diabetesMed</th>\n",
       "      <th>readmitted</th>\n",
       "    </tr>\n",
       "  </thead>\n",
       "  <tbody>\n",
       "    <tr>\n",
       "      <th>0</th>\n",
       "      <td>2278392</td>\n",
       "      <td>8222157</td>\n",
       "      <td>Caucasian</td>\n",
       "      <td>Female</td>\n",
       "      <td>[0-10)</td>\n",
       "      <td>NULL</td>\n",
       "      <td>25</td>\n",
       "      <td>1</td>\n",
       "      <td>1</td>\n",
       "      <td>41</td>\n",
       "      <td>...</td>\n",
       "      <td>No</td>\n",
       "      <td>No</td>\n",
       "      <td>No</td>\n",
       "      <td>No</td>\n",
       "      <td>No</td>\n",
       "      <td>No</td>\n",
       "      <td>No</td>\n",
       "      <td>No</td>\n",
       "      <td>No</td>\n",
       "      <td>NO</td>\n",
       "    </tr>\n",
       "    <tr>\n",
       "      <th>1</th>\n",
       "      <td>149190</td>\n",
       "      <td>55629189</td>\n",
       "      <td>Caucasian</td>\n",
       "      <td>Female</td>\n",
       "      <td>[10-20)</td>\n",
       "      <td>Emergency</td>\n",
       "      <td>1</td>\n",
       "      <td>7</td>\n",
       "      <td>3</td>\n",
       "      <td>59</td>\n",
       "      <td>...</td>\n",
       "      <td>No</td>\n",
       "      <td>Up</td>\n",
       "      <td>No</td>\n",
       "      <td>No</td>\n",
       "      <td>No</td>\n",
       "      <td>No</td>\n",
       "      <td>No</td>\n",
       "      <td>Ch</td>\n",
       "      <td>Yes</td>\n",
       "      <td>&gt;30</td>\n",
       "    </tr>\n",
       "    <tr>\n",
       "      <th>2</th>\n",
       "      <td>64410</td>\n",
       "      <td>86047875</td>\n",
       "      <td>AfricanAmerican</td>\n",
       "      <td>Female</td>\n",
       "      <td>[20-30)</td>\n",
       "      <td>Emergency</td>\n",
       "      <td>1</td>\n",
       "      <td>7</td>\n",
       "      <td>2</td>\n",
       "      <td>11</td>\n",
       "      <td>...</td>\n",
       "      <td>No</td>\n",
       "      <td>No</td>\n",
       "      <td>No</td>\n",
       "      <td>No</td>\n",
       "      <td>No</td>\n",
       "      <td>No</td>\n",
       "      <td>No</td>\n",
       "      <td>No</td>\n",
       "      <td>Yes</td>\n",
       "      <td>NO</td>\n",
       "    </tr>\n",
       "    <tr>\n",
       "      <th>3</th>\n",
       "      <td>500364</td>\n",
       "      <td>82442376</td>\n",
       "      <td>Caucasian</td>\n",
       "      <td>Male</td>\n",
       "      <td>[30-40)</td>\n",
       "      <td>Emergency</td>\n",
       "      <td>1</td>\n",
       "      <td>7</td>\n",
       "      <td>2</td>\n",
       "      <td>44</td>\n",
       "      <td>...</td>\n",
       "      <td>No</td>\n",
       "      <td>Up</td>\n",
       "      <td>No</td>\n",
       "      <td>No</td>\n",
       "      <td>No</td>\n",
       "      <td>No</td>\n",
       "      <td>No</td>\n",
       "      <td>Ch</td>\n",
       "      <td>Yes</td>\n",
       "      <td>NO</td>\n",
       "    </tr>\n",
       "    <tr>\n",
       "      <th>4</th>\n",
       "      <td>16680</td>\n",
       "      <td>42519267</td>\n",
       "      <td>Caucasian</td>\n",
       "      <td>Male</td>\n",
       "      <td>[40-50)</td>\n",
       "      <td>Emergency</td>\n",
       "      <td>1</td>\n",
       "      <td>7</td>\n",
       "      <td>1</td>\n",
       "      <td>51</td>\n",
       "      <td>...</td>\n",
       "      <td>No</td>\n",
       "      <td>Steady</td>\n",
       "      <td>No</td>\n",
       "      <td>No</td>\n",
       "      <td>No</td>\n",
       "      <td>No</td>\n",
       "      <td>No</td>\n",
       "      <td>Ch</td>\n",
       "      <td>Yes</td>\n",
       "      <td>NO</td>\n",
       "    </tr>\n",
       "  </tbody>\n",
       "</table>\n",
       "<p>5 rows × 45 columns</p>\n",
       "</div>"
      ],
      "text/plain": [
       "   encounter_id  patient_nbr             race  gender      age  \\\n",
       "0       2278392      8222157        Caucasian  Female   [0-10)   \n",
       "1        149190     55629189        Caucasian  Female  [10-20)   \n",
       "2         64410     86047875  AfricanAmerican  Female  [20-30)   \n",
       "3        500364     82442376        Caucasian    Male  [30-40)   \n",
       "4         16680     42519267        Caucasian    Male  [40-50)   \n",
       "\n",
       "  admission_type_id  discharge_disposition_id  admission_source_id  \\\n",
       "0              NULL                        25                    1   \n",
       "1         Emergency                         1                    7   \n",
       "2         Emergency                         1                    7   \n",
       "3         Emergency                         1                    7   \n",
       "4         Emergency                         1                    7   \n",
       "\n",
       "   time_in_hospital  num_lab_procedures    ...      tolazamide  insulin  \\\n",
       "0                 1                  41    ...              No       No   \n",
       "1                 3                  59    ...              No       Up   \n",
       "2                 2                  11    ...              No       No   \n",
       "3                 2                  44    ...              No       Up   \n",
       "4                 1                  51    ...              No   Steady   \n",
       "\n",
       "   glyburide-metformin  glipizide-metformin  glimepiride-pioglitazone  \\\n",
       "0                   No                   No                        No   \n",
       "1                   No                   No                        No   \n",
       "2                   No                   No                        No   \n",
       "3                   No                   No                        No   \n",
       "4                   No                   No                        No   \n",
       "\n",
       "  metformin-rosiglitazone metformin-pioglitazone change  diabetesMed  \\\n",
       "0                      No                     No     No           No   \n",
       "1                      No                     No     Ch          Yes   \n",
       "2                      No                     No     No          Yes   \n",
       "3                      No                     No     Ch          Yes   \n",
       "4                      No                     No     Ch          Yes   \n",
       "\n",
       "  readmitted  \n",
       "0         NO  \n",
       "1        >30  \n",
       "2         NO  \n",
       "3         NO  \n",
       "4         NO  \n",
       "\n",
       "[5 rows x 45 columns]"
      ]
     },
     "execution_count": 77,
     "metadata": {},
     "output_type": "execute_result"
    }
   ],
   "source": [
    "df1.head()"
   ]
  },
  {
   "cell_type": "code",
   "execution_count": 78,
   "metadata": {},
   "outputs": [],
   "source": [
    "id_list = ['Physician Referral',\n",
    "'Clinic Referral',\n",
    "'HMO Referral',\n",
    "'Transfer from a hospital',\n",
    "'Transfer from a Skilled Nursing Facility (SNF)',\n",
    "'Transfer from another health care facility',\n",
    "'Emergency Room',\n",
    "'Court/Law Enforcement',\n",
    "'Not Available',\n",
    "'Transfer from critial access hospital',\n",
    "'Normal Delivery',\n",
    "'Premature Delivery',\n",
    "'Sick Baby',\n",
    "'Extramural Birth',\n",
    "'Not Available',\n",
    "'NULL',\n",
    "'Transfer From Another Home Health Agency',\n",
    "'Readmission to Same Home Health Agency',\n",
    "'Not Mapped',\n",
    "'Unknown/Invalid',\n",
    "'Transfer from hospital inpt/same fac reslt in a sep claim',\n",
    "'Born inside this hospital',\n",
    "'Born outside this hospital',\n",
    "'Transfer from Ambulatory Surgery Center',\n",
    "'Transfer from Hospice']\n",
    "\n",
    "df1.admission_source_id.replace(list(range(1,len(id_list)+1)),id_list, inplace=True)"
   ]
  },
  {
   "cell_type": "code",
   "execution_count": 79,
   "metadata": {},
   "outputs": [
    {
     "data": {
      "text/plain": [
       "admission_source_id\n",
       "Born inside this hospital                            12\n",
       "Clinic Referral                                    1104\n",
       "Court/Law Enforcement                                16\n",
       "Emergency Room                                    57494\n",
       "Extramural Birth                                      2\n",
       "HMO Referral                                        187\n",
       "Normal Delivery                                       2\n",
       "Not Available                                       125\n",
       "Physician Referral                                29565\n",
       "Sick Baby                                             1\n",
       "Transfer From Another Home Health Agency           6781\n",
       "Transfer from Hospice                                 2\n",
       "Transfer from a Skilled Nursing Facility (SNF)      855\n",
       "Transfer from a hospital                           3187\n",
       "Transfer from another health care facility         2264\n",
       "Transfer from critial access hospital                 8\n",
       "Unknown/Invalid                                     161\n",
       "dtype: int64"
      ]
     },
     "execution_count": 79,
     "metadata": {},
     "output_type": "execute_result"
    }
   ],
   "source": [
    "df1.groupby('admission_source_id').size()"
   ]
  },
  {
   "cell_type": "code",
   "execution_count": 80,
   "metadata": {},
   "outputs": [
    {
     "data": {
      "text/plain": [
       "0            Not Mapped\n",
       "1    Discharged to home\n",
       "2    Discharged to home\n",
       "3    Discharged to home\n",
       "4    Discharged to home\n",
       "Name: discharge_disposition_id, dtype: object"
      ]
     },
     "execution_count": 80,
     "metadata": {},
     "output_type": "execute_result"
    }
   ],
   "source": [
    "id_list = ['Discharged to home',\n",
    "'Discharged/transferred to another short term hospital',\n",
    "'Discharged/transferred to SNF',\n",
    "'Discharged/transferred to ICF',\n",
    "'Discharged/transferred to another type of inpatient care institution',\n",
    "'Discharged/transferred to home with home health service',\n",
    "'Left AMA',\n",
    "'Discharged/transferred to home under care of Home IV provider',\n",
    "'Admitted as an inpatient to this hospital',\n",
    "'Neonate discharged to another hospital for neonatal aftercare',\n",
    "'Expired',\n",
    "'Still patient or expected to return for outpatient services',\n",
    "'Hospice / home',\n",
    "'Hospice / medical facility',\n",
    "'Discharged/transferred within this institution to Medicare approved swing bed',\n",
    "'Discharged/transferred/referred another institution for outpatient services',\n",
    "'Discharged/transferred/referred to this institution for outpatient services',\n",
    "'NULL',\n",
    "'Expired at home. Medicaid only, hospice.',\n",
    "'Expired in a medical facility. Medicaid only, hospice.',\n",
    "'Expired, place unknown. Medicaid only, hospice.',\n",
    "'Discharged/transferred to another rehab fac including rehab units of a hospital .',\n",
    "'Discharged/transferred to a long term care hospital.',\n",
    "'Discharged/transferred to a nursing facility certified under Medicaid but not certified under Medicare.',\n",
    "'Not Mapped',\n",
    "'Unknown/Invalid',\n",
    "'Discharged/transferred to another Type of Health Care Institution not Defined Elsewhere',\n",
    "'Discharged/transferred to a federal health care facility.',\n",
    "'Discharged/transferred/referred to a psychiatric hospital of psychiatric distinct part unit of a hospital',\n",
    "'Discharged/transferred to a Critical Access Hospital (CAH).']\n",
    "\n",
    "df1.discharge_disposition_id.replace(list(range(1,len(id_list)+1)),id_list, inplace=True)\n",
    "df1.discharge_disposition_id.head()\n"
   ]
  },
  {
   "cell_type": "code",
   "execution_count": 81,
   "metadata": {},
   "outputs": [],
   "source": [
    "df1 = df1[df1.discharge_disposition_id.str.contains(\"Expired\") == False]"
   ]
  },
  {
   "cell_type": "code",
   "execution_count": 82,
   "metadata": {},
   "outputs": [],
   "source": [
    "df1 = df1[df1.discharge_disposition_id.str.contains(\"Hospice\") == False]"
   ]
  },
  {
   "cell_type": "code",
   "execution_count": 83,
   "metadata": {},
   "outputs": [
    {
     "data": {
      "text/plain": [
       "[(1, 139),\n",
       " (140, 239),\n",
       " (240, 279),\n",
       " (280, 289),\n",
       " (290, 319),\n",
       " (320, 389),\n",
       " (390, 459),\n",
       " (460, 519),\n",
       " (520, 579),\n",
       " (580, 629),\n",
       " (630, 677),\n",
       " (680, 709),\n",
       " (710, 739),\n",
       " (740, 759),\n",
       " (760, 779),\n",
       " (780, 799),\n",
       " (800, 999)]"
      ]
     },
     "execution_count": 83,
     "metadata": {},
     "output_type": "execute_result"
    }
   ],
   "source": [
    "numeric_code_ranges = [(1,139),\n",
    "(140,239),\n",
    "(240,279),\n",
    "(280,289),\n",
    "(290,319),\n",
    "(320,389),\n",
    "(390,459),\n",
    "(460,519),\n",
    "(520,579),\n",
    "(580,629),\n",
    "(630,677),\n",
    "(680,709),\n",
    "(710,739),\n",
    "(740,759),  \n",
    "(760,779),  \n",
    "(780,799),  \n",
    "(800,999)]\n",
    "\n",
    "numeric_code_ranges"
   ]
  },
  {
   "cell_type": "code",
   "execution_count": 84,
   "metadata": {},
   "outputs": [
    {
     "data": {
      "text/plain": [
       "['Infectious And Parasitic Diseases',\n",
       " 'Neoplasms',\n",
       " 'Endocrine, Nutritional And Metabolic Diseases, And Immunity Disorders',\n",
       " 'Diseases Of The Blood And Blood-Forming Organs',\n",
       " 'Mental Disorders',\n",
       " 'Diseases Of The Nervous System And Sense Organs',\n",
       " 'Diseases Of The Circulatory System',\n",
       " 'Diseases Of The Respiratory System',\n",
       " 'Diseases Of The Digestive System',\n",
       " 'Diseases Of The Genitourinary System',\n",
       " 'Complications Of Pregnancy, Childbirth, And The Puerperium',\n",
       " 'Diseases Of The Skin And Subcutaneous Tissue',\n",
       " 'Diseases Of The Musculoskeletal System And Connective Tissue',\n",
       " 'Congential Anomalies',\n",
       " 'Certain Conditions Originating In The Perinatal Period',\n",
       " 'Symptoms, Signs, And Ill-Defined Conditions',\n",
       " 'Injury And Poisoning']"
      ]
     },
     "execution_count": 84,
     "metadata": {},
     "output_type": "execute_result"
    }
   ],
   "source": [
    "ICD9_diagnosis_groups = ['Infectious And Parasitic Diseases',\n",
    "'Neoplasms',\n",
    "'Endocrine, Nutritional And Metabolic Diseases, And Immunity Disorders',\n",
    "'Diseases Of The Blood And Blood-Forming Organs',\n",
    "'Mental Disorders',\n",
    "'Diseases Of The Nervous System And Sense Organs',\n",
    "'Diseases Of The Circulatory System',\n",
    "'Diseases Of The Respiratory System',\n",
    "'Diseases Of The Digestive System',\n",
    "'Diseases Of The Genitourinary System',\n",
    "'Complications Of Pregnancy, Childbirth, And The Puerperium',\n",
    "'Diseases Of The Skin And Subcutaneous Tissue',\n",
    "'Diseases Of The Musculoskeletal System And Connective Tissue',\n",
    "'Congential Anomalies',\n",
    "'Certain Conditions Originating In The Perinatal Period',\n",
    "'Symptoms, Signs, And Ill-Defined Conditions',\n",
    "'Injury And Poisoning']\n",
    "ICD9_diagnosis_groups"
   ]
  },
  {
   "cell_type": "code",
   "execution_count": 85,
   "metadata": {},
   "outputs": [
    {
     "data": {
      "text/plain": [
       "{((1, 139), 'Infectious And Parasitic Diseases'),\n",
       " ((140, 239), 'Neoplasms'),\n",
       " ((240, 279),\n",
       "  'Endocrine, Nutritional And Metabolic Diseases, And Immunity Disorders'),\n",
       " ((280, 289), 'Diseases Of The Blood And Blood-Forming Organs'),\n",
       " ((290, 319), 'Mental Disorders'),\n",
       " ((320, 389), 'Diseases Of The Nervous System And Sense Organs'),\n",
       " ((390, 459), 'Diseases Of The Circulatory System'),\n",
       " ((460, 519), 'Diseases Of The Respiratory System'),\n",
       " ((520, 579), 'Diseases Of The Digestive System'),\n",
       " ((580, 629), 'Diseases Of The Genitourinary System'),\n",
       " ((630, 677), 'Complications Of Pregnancy, Childbirth, And The Puerperium'),\n",
       " ((680, 709), 'Diseases Of The Skin And Subcutaneous Tissue'),\n",
       " ((710, 739), 'Diseases Of The Musculoskeletal System And Connective Tissue'),\n",
       " ((740, 759), 'Congential Anomalies'),\n",
       " ((760, 779), 'Certain Conditions Originating In The Perinatal Period'),\n",
       " ((780, 799), 'Symptoms, Signs, And Ill-Defined Conditions'),\n",
       " ((800, 999), 'Injury And Poisoning')}"
      ]
     },
     "execution_count": 85,
     "metadata": {},
     "output_type": "execute_result"
    }
   ],
   "source": [
    "codes = zip(numeric_code_ranges, ICD9_diagnosis_groups)\n",
    "codeSet = set(codes)\n",
    "codeSet"
   ]
  },
  {
   "cell_type": "code",
   "execution_count": 86,
   "metadata": {},
   "outputs": [],
   "source": [
    "df_icd = df1.copy()\n",
    "for num_range, diagnosis in codeSet:\n",
    "    #print(num_range)\n",
    "    oldlist = range(num_range[0],num_range[1]+1)\n",
    "    oldlist = [str(x) for x in oldlist]\n",
    "    newlist = [diagnosis] * len(oldlist)\n",
    "    for curr_col in ['diag_1', 'diag_2', 'diag_3']:\n",
    "        df_icd[curr_col].replace(oldlist, newlist, inplace=True)"
   ]
  },
  {
   "cell_type": "code",
   "execution_count": 87,
   "metadata": {},
   "outputs": [],
   "source": [
    "for curr_col in ['diag_1', 'diag_2', 'diag_3']:\n",
    "    df_icd[curr_col].replace(oldlist, newlist, inplace=True)\n",
    "    df_icd.loc[df_icd[curr_col].str.contains('V'), curr_col] = 'Supplementary Classification Of Factors Influencing Health Status And Contact With Health Services'"
   ]
  },
  {
   "cell_type": "code",
   "execution_count": 88,
   "metadata": {},
   "outputs": [],
   "source": [
    "for curr_col in ['diag_1', 'diag_2', 'diag_3']:\n",
    "    df_icd[curr_col].replace(oldlist, newlist, inplace=True)\n",
    "    df_icd.loc[df_icd[curr_col].str.contains('E'), curr_col] = 'Supplementary Classification Of External Causes Of Injury And Poisoning'"
   ]
  },
  {
   "cell_type": "code",
   "execution_count": 89,
   "metadata": {},
   "outputs": [],
   "source": [
    "for curr_col in ['diag_1', 'diag_2', 'diag_3']:\n",
    "    df_icd[curr_col].replace(oldlist, newlist, inplace=True)\n",
    "    df_icd.loc[df_icd[curr_col].str.contains('250'), curr_col] ='Diabetes mellitus'"
   ]
  },
  {
   "cell_type": "code",
   "execution_count": 90,
   "metadata": {
    "scrolled": true
   },
   "outputs": [
    {
     "name": "stdout",
     "output_type": "stream",
     "text": [
      "['Diabetes mellitus'\n",
      " 'Supplementary Classification Of External Causes Of Injury And Poisoning'\n",
      " 'Complications Of Pregnancy, Childbirth, And The Puerperium'\n",
      " 'Infectious And Parasitic Diseases' 'Neoplasms'\n",
      " 'Diseases Of The Circulatory System' 'Diseases Of The Respiratory System'\n",
      " 'Injury And Poisoning' 'Diseases Of The Skin And Subcutaneous Tissue'\n",
      " 'Diseases Of The Musculoskeletal System And Connective Tissue'\n",
      " 'Diseases Of The Digestive System'\n",
      " 'Supplementary Classification Of Factors Influencing Health Status And Contact With Health Services'\n",
      " 'Symptoms, Signs, And Ill-Defined Conditions'\n",
      " 'Diseases Of The Genitourinary System' 'Mental Disorders'\n",
      " 'Diseases Of The Nervous System And Sense Organs'\n",
      " 'Diseases Of The Blood And Blood-Forming Organs' '?'\n",
      " 'Congential Anomalies']\n"
     ]
    }
   ],
   "source": [
    "print(df_icd['diag_1'].unique())"
   ]
  },
  {
   "cell_type": "code",
   "execution_count": 91,
   "metadata": {},
   "outputs": [
    {
     "data": {
      "text/plain": [
       "0         0\n",
       "1         1\n",
       "2         0\n",
       "3         0\n",
       "4         0\n",
       "5         1\n",
       "6         0\n",
       "7         1\n",
       "8         0\n",
       "9         0\n",
       "10        1\n",
       "11        1\n",
       "12        1\n",
       "13        0\n",
       "14        1\n",
       "15        0\n",
       "16        1\n",
       "17        0\n",
       "18        1\n",
       "19        0\n",
       "20        0\n",
       "21        0\n",
       "22        0\n",
       "23        1\n",
       "24        0\n",
       "25        0\n",
       "26        0\n",
       "27        1\n",
       "28        1\n",
       "29        1\n",
       "         ..\n",
       "101735    0\n",
       "101736    1\n",
       "101737    0\n",
       "101738    0\n",
       "101739    0\n",
       "101740    0\n",
       "101741    0\n",
       "101742    0\n",
       "101744    0\n",
       "101745    0\n",
       "101746    1\n",
       "101747    1\n",
       "101748    1\n",
       "101749    0\n",
       "101750    1\n",
       "101751    0\n",
       "101752    0\n",
       "101753    0\n",
       "101754    1\n",
       "101755    1\n",
       "101756    1\n",
       "101757    0\n",
       "101758    0\n",
       "101759    0\n",
       "101760    1\n",
       "101761    1\n",
       "101762    0\n",
       "101763    0\n",
       "101764    0\n",
       "101765    0\n",
       "Name: OUTPUT_LABEL, Length: 99343, dtype: int32"
      ]
     },
     "execution_count": 91,
     "metadata": {},
     "output_type": "execute_result"
    }
   ],
   "source": [
    "df_icd['OUTPUT_LABEL'] = (df_icd.readmitted != 'NO').astype('int')\n",
    "df_icd['OUTPUT_LABEL']"
   ]
  },
  {
   "cell_type": "code",
   "execution_count": 92,
   "metadata": {},
   "outputs": [
    {
     "name": "stdout",
     "output_type": "stream",
     "text": [
      "Prevalence:0.471\n"
     ]
    }
   ],
   "source": [
    "def calc_prevalence(y_actual):\n",
    "    return (sum(y_actual)/len(y_actual))\n",
    "print('Prevalence:%.3f'%calc_prevalence(df_icd['OUTPUT_LABEL'].values))"
   ]
  },
  {
   "cell_type": "code",
   "execution_count": 93,
   "metadata": {},
   "outputs": [
    {
     "name": "stdout",
     "output_type": "stream",
     "text": [
      "encounter_id: 99343 unique values\n",
      "patient_nbr: 69990 unique values\n",
      "race\n",
      "['Caucasian' 'AfricanAmerican' '?' 'Other' 'Asian' 'Hispanic']\n",
      "gender\n",
      "['Female' 'Male' 'Unknown/Invalid']\n",
      "age\n",
      "['[0-10)' '[10-20)' '[20-30)' '[30-40)' '[40-50)' '[50-60)' '[60-70)'\n",
      " '[70-80)' '[80-90)' '[90-100)']\n",
      "admission_type_id\n",
      "['NULL' 'Emergency' 'Urgent' 'Elective' 'Newborn' 'Not Available'\n",
      " 'Not Mapped' 'Trauma Center']\n",
      "discharge_disposition_id\n",
      "['Not Mapped' 'Discharged to home' 'Discharged/transferred to SNF'\n",
      " 'Discharged/transferred to home with home health service'\n",
      " 'Discharged/transferred to another short term hospital'\n",
      " 'Discharged/transferred to another type of inpatient care institution'\n",
      " 'Left AMA'\n",
      " 'Neonate discharged to another hospital for neonatal aftercare'\n",
      " 'Discharged/transferred to ICF' 'NULL'\n",
      " 'Discharged/transferred to home under care of Home IV provider'\n",
      " 'Still patient or expected to return for outpatient services'\n",
      " 'Discharged/transferred/referred another institution for outpatient services'\n",
      " 'Discharged/transferred/referred to this institution for outpatient services'\n",
      " 'Discharged/transferred to another rehab fac including rehab units of a hospital .'\n",
      " 'Discharged/transferred to a long term care hospital.'\n",
      " 'Admitted as an inpatient to this hospital'\n",
      " 'Discharged/transferred within this institution to Medicare approved swing bed'\n",
      " 'Discharged/transferred to a nursing facility certified under Medicaid but not certified under Medicare.'\n",
      " 'Discharged/transferred to a federal health care facility.'\n",
      " 'Discharged/transferred to another Type of Health Care Institution not Defined Elsewhere']\n",
      "admission_source_id\n",
      "['Physician Referral' 'Emergency Room' 'Clinic Referral'\n",
      " 'Transfer from a hospital'\n",
      " 'Transfer from a Skilled Nursing Facility (SNF)' 'Unknown/Invalid'\n",
      " 'Transfer from another health care facility' 'HMO Referral'\n",
      " 'Transfer From Another Home Health Agency' 'Court/Law Enforcement'\n",
      " 'Not Available' 'Extramural Birth'\n",
      " 'Transfer from critial access hospital' 'Born inside this hospital'\n",
      " 'Normal Delivery' 'Transfer from Hospice' 'Sick Baby']\n",
      "time_in_hospital\n",
      "[ 1  3  2  4  5 13 12  9  7 10  6 11  8 14]\n",
      "num_lab_procedures: 118 unique values\n",
      "num_procedures\n",
      "[0 5 1 6 2 3 4]\n",
      "num_medications: 75 unique values\n",
      "number_outpatient: 39 unique values\n",
      "number_emergency: 33 unique values\n",
      "number_inpatient\n",
      "[ 0  1  2  3  6  5  4  7  9  8 15 10 11 14 12 13 17 16 21 18 19]\n",
      "diag_1\n",
      "['Diabetes mellitus'\n",
      " 'Supplementary Classification Of External Causes Of Injury And Poisoning'\n",
      " 'Complications Of Pregnancy, Childbirth, And The Puerperium'\n",
      " 'Infectious And Parasitic Diseases' 'Neoplasms'\n",
      " 'Diseases Of The Circulatory System' 'Diseases Of The Respiratory System'\n",
      " 'Injury And Poisoning' 'Diseases Of The Skin And Subcutaneous Tissue'\n",
      " 'Diseases Of The Musculoskeletal System And Connective Tissue'\n",
      " 'Diseases Of The Digestive System'\n",
      " 'Supplementary Classification Of Factors Influencing Health Status And Contact With Health Services'\n",
      " 'Symptoms, Signs, And Ill-Defined Conditions'\n",
      " 'Diseases Of The Genitourinary System' 'Mental Disorders'\n",
      " 'Diseases Of The Nervous System And Sense Organs'\n",
      " 'Diseases Of The Blood And Blood-Forming Organs' '?'\n",
      " 'Congential Anomalies']\n",
      "diag_2\n",
      "['?' 'Diabetes mellitus'\n",
      " 'Supplementary Classification Of External Causes Of Injury And Poisoning'\n",
      " 'Neoplasms' 'Diseases Of The Circulatory System'\n",
      " 'Diseases Of The Respiratory System'\n",
      " 'Diseases Of The Blood And Blood-Forming Organs' 'Injury And Poisoning'\n",
      " 'Diseases Of The Musculoskeletal System And Connective Tissue'\n",
      " 'Diseases Of The Genitourinary System'\n",
      " 'Infectious And Parasitic Diseases' 'Diseases Of The Digestive System'\n",
      " 'Diseases Of The Skin And Subcutaneous Tissue'\n",
      " 'Supplementary Classification Of Factors Influencing Health Status And Contact With Health Services'\n",
      " 'Diseases Of The Nervous System And Sense Organs'\n",
      " 'Symptoms, Signs, And Ill-Defined Conditions' 'Mental Disorders'\n",
      " 'Complications Of Pregnancy, Childbirth, And The Puerperium'\n",
      " 'Congential Anomalies']\n",
      "diag_3\n",
      "['?'\n",
      " 'Supplementary Classification Of External Causes Of Injury And Poisoning'\n",
      " 'Supplementary Classification Of Factors Influencing Health Status And Contact With Health Services'\n",
      " 'Diseases Of The Circulatory System' 'Infectious And Parasitic Diseases'\n",
      " 'Diseases Of The Respiratory System' 'Injury And Poisoning' 'Neoplasms'\n",
      " 'Diabetes mellitus' 'Diseases Of The Genitourinary System'\n",
      " 'Diseases Of The Musculoskeletal System And Connective Tissue'\n",
      " 'Symptoms, Signs, And Ill-Defined Conditions'\n",
      " 'Diseases Of The Digestive System'\n",
      " 'Diseases Of The Skin And Subcutaneous Tissue' 'Mental Disorders'\n",
      " 'Congential Anomalies' 'Diseases Of The Nervous System And Sense Organs'\n",
      " 'Complications Of Pregnancy, Childbirth, And The Puerperium'\n",
      " 'Diseases Of The Blood And Blood-Forming Organs' '365.44']\n",
      "number_diagnoses\n",
      "[ 1  9  6  7  5  8  3  4  2 16 12 13 15 10 11 14]\n",
      "max_glu_serum\n",
      "['None' '>300' 'Norm' '>200']\n",
      "A1Cresult\n",
      "['None' '>7' '>8' 'Norm']\n",
      "metformin\n",
      "['No' 'Steady' 'Up' 'Down']\n",
      "repaglinide\n",
      "['No' 'Up' 'Steady' 'Down']\n",
      "nateglinide\n",
      "['No' 'Steady' 'Down' 'Up']\n",
      "chlorpropamide\n",
      "['No' 'Steady' 'Down' 'Up']\n",
      "glimepiride\n",
      "['No' 'Steady' 'Down' 'Up']\n",
      "acetohexamide\n",
      "['No' 'Steady']\n",
      "glipizide\n",
      "['No' 'Steady' 'Up' 'Down']\n",
      "glyburide\n",
      "['No' 'Steady' 'Up' 'Down']\n",
      "tolbutamide\n",
      "['No' 'Steady']\n",
      "pioglitazone\n",
      "['No' 'Steady' 'Up' 'Down']\n",
      "rosiglitazone\n",
      "['No' 'Steady' 'Up' 'Down']\n",
      "acarbose\n",
      "['No' 'Steady' 'Up' 'Down']\n",
      "miglitol\n",
      "['No' 'Steady' 'Down' 'Up']\n",
      "troglitazone\n",
      "['No' 'Steady']\n",
      "tolazamide\n",
      "['No' 'Steady' 'Up']\n",
      "insulin\n",
      "['No' 'Up' 'Steady' 'Down']\n",
      "glyburide-metformin\n",
      "['No' 'Steady' 'Down' 'Up']\n",
      "glipizide-metformin\n",
      "['No' 'Steady']\n",
      "glimepiride-pioglitazone\n",
      "['No' 'Steady']\n",
      "metformin-rosiglitazone\n",
      "['No' 'Steady']\n",
      "metformin-pioglitazone\n",
      "['No' 'Steady']\n",
      "change\n",
      "['No' 'Ch']\n",
      "diabetesMed\n",
      "['No' 'Yes']\n",
      "readmitted\n",
      "['NO' '>30' '<30']\n",
      "OUTPUT_LABEL\n",
      "[0 1]\n"
     ]
    }
   ],
   "source": [
    "for c in list(df_icd.columns):\n",
    "    \n",
    "    # get a list of unique values\n",
    "    n = df_icd[c].unique()\n",
    "    \n",
    "    # if number of unique values is less than 30, print the values. Otherwise print the number of unique values\n",
    "    if len(n)<30:\n",
    "        print(c)\n",
    "        print(n)\n",
    "    else:\n",
    "        print(c + ': ' +str(len(n)) + ' unique values')"
   ]
  },
  {
   "cell_type": "code",
   "execution_count": 94,
   "metadata": {},
   "outputs": [],
   "source": [
    "df_icd = df_icd.replace('?',np.nan)"
   ]
  },
  {
   "cell_type": "code",
   "execution_count": 95,
   "metadata": {},
   "outputs": [
    {
     "data": {
      "text/plain": [
       "(99343, 46)"
      ]
     },
     "execution_count": 95,
     "metadata": {},
     "output_type": "execute_result"
    }
   ],
   "source": [
    "df_icd.shape"
   ]
  },
  {
   "cell_type": "code",
   "execution_count": 96,
   "metadata": {},
   "outputs": [
    {
     "data": {
      "text/plain": [
       "encounter_id                   0\n",
       "patient_nbr                    0\n",
       "race                        2234\n",
       "gender                         0\n",
       "age                            0\n",
       "admission_type_id              0\n",
       "discharge_disposition_id       0\n",
       "admission_source_id            0\n",
       "time_in_hospital               0\n",
       "num_lab_procedures             0\n",
       "num_procedures                 0\n",
       "num_medications                0\n",
       "number_outpatient              0\n",
       "number_emergency               0\n",
       "number_inpatient               0\n",
       "diag_1                        20\n",
       "diag_2                       356\n",
       "diag_3                      1419\n",
       "number_diagnoses               0\n",
       "max_glu_serum                  0\n",
       "A1Cresult                      0\n",
       "metformin                      0\n",
       "repaglinide                    0\n",
       "nateglinide                    0\n",
       "chlorpropamide                 0\n",
       "glimepiride                    0\n",
       "acetohexamide                  0\n",
       "glipizide                      0\n",
       "glyburide                      0\n",
       "tolbutamide                    0\n",
       "pioglitazone                   0\n",
       "rosiglitazone                  0\n",
       "acarbose                       0\n",
       "miglitol                       0\n",
       "troglitazone                   0\n",
       "tolazamide                     0\n",
       "insulin                        0\n",
       "glyburide-metformin            0\n",
       "glipizide-metformin            0\n",
       "glimepiride-pioglitazone       0\n",
       "metformin-rosiglitazone        0\n",
       "metformin-pioglitazone         0\n",
       "change                         0\n",
       "diabetesMed                    0\n",
       "readmitted                     0\n",
       "OUTPUT_LABEL                   0\n",
       "dtype: int64"
      ]
     },
     "execution_count": 96,
     "metadata": {},
     "output_type": "execute_result"
    }
   ],
   "source": [
    "df_icd[df_icd.columns].isnull().sum()\n"
   ]
  },
  {
   "cell_type": "code",
   "execution_count": null,
   "metadata": {},
   "outputs": [],
   "source": []
  },
  {
   "cell_type": "code",
   "execution_count": 97,
   "metadata": {},
   "outputs": [
    {
     "data": {
      "text/plain": [
       "time_in_hospital      0\n",
       "num_lab_procedures    0\n",
       "num_procedures        0\n",
       "num_medications       0\n",
       "number_outpatient     0\n",
       "number_emergency      0\n",
       "number_inpatient      0\n",
       "number_diagnoses      0\n",
       "dtype: int64"
      ]
     },
     "execution_count": 97,
     "metadata": {},
     "output_type": "execute_result"
    }
   ],
   "source": [
    "cols_num = ['time_in_hospital','num_lab_procedures', 'num_procedures', 'num_medications',\n",
    "       'number_outpatient', 'number_emergency', 'number_inpatient','number_diagnoses']\n",
    "df_icd[cols_num].isnull().sum()"
   ]
  },
  {
   "cell_type": "code",
   "execution_count": 98,
   "metadata": {},
   "outputs": [],
   "source": [
    "df_icd['race'] = df_icd['race'].fillna('RACE')"
   ]
  },
  {
   "cell_type": "code",
   "execution_count": 99,
   "metadata": {},
   "outputs": [
    {
     "name": "stdout",
     "output_type": "stream",
     "text": [
      "race 0\n",
      "gender 0\n",
      "age 0\n",
      "admission_type_id 0\n",
      "discharge_disposition_id 0\n",
      "admission_source_id 0\n",
      "diag_1 0\n",
      "diag_2 0\n",
      "diag_3 0\n",
      "max_glu_serum 0\n",
      "A1Cresult 0\n",
      "metformin 0\n",
      "repaglinide 0\n",
      "nateglinide 0\n",
      "chlorpropamide 0\n",
      "glimepiride 0\n",
      "acetohexamide 0\n",
      "glipizide 0\n",
      "glyburide 0\n",
      "tolbutamide 0\n",
      "pioglitazone 0\n",
      "rosiglitazone 0\n",
      "acarbose 0\n",
      "miglitol 0\n",
      "troglitazone 0\n",
      "tolazamide 0\n",
      "insulin 0\n",
      "glyburide-metformin 0\n",
      "glipizide-metformin 0\n",
      "glimepiride-pioglitazone 0\n",
      "metformin-rosiglitazone 0\n",
      "metformin-pioglitazone 0\n",
      "change 0\n",
      "diabetesMed 0\n",
      "readmitted 0\n"
     ]
    }
   ],
   "source": [
    "for col in df_icd.columns:\n",
    "    if(df_icd[col].dtypes==\"object\"):\n",
    "         print(col,df_icd[col][df_icd[col] == '?'].count())"
   ]
  },
  {
   "cell_type": "code",
   "execution_count": 100,
   "metadata": {},
   "outputs": [],
   "source": [
    "cols_cat = ['race', 'gender', \n",
    "       'max_glu_serum', 'A1Cresult',\n",
    "       'metformin', 'repaglinide', 'nateglinide', 'chlorpropamide',\n",
    "       'glimepiride', 'acetohexamide', 'glipizide', 'glyburide', 'tolbutamide',\n",
    "       'pioglitazone', 'rosiglitazone', 'acarbose', 'miglitol', 'troglitazone',\n",
    "       'tolazamide', 'insulin',\n",
    "       'glyburide-metformin', 'glipizide-metformin',\n",
    "       'glimepiride-pioglitazone', 'metformin-rosiglitazone',\n",
    "       'metformin-pioglitazone', 'change', 'diabetesMed','admission_type_id',\n",
    "        'discharge_disposition_id', 'admission_source_id']"
   ]
  },
  {
   "cell_type": "code",
   "execution_count": 101,
   "metadata": {},
   "outputs": [],
   "source": [
    "\n",
    "df_cat = pd.get_dummies(df_icd[cols_cat],drop_first = True)"
   ]
  },
  {
   "cell_type": "code",
   "execution_count": 102,
   "metadata": {},
   "outputs": [
    {
     "data": {
      "text/html": [
       "<div>\n",
       "<style scoped>\n",
       "    .dataframe tbody tr th:only-of-type {\n",
       "        vertical-align: middle;\n",
       "    }\n",
       "\n",
       "    .dataframe tbody tr th {\n",
       "        vertical-align: top;\n",
       "    }\n",
       "\n",
       "    .dataframe thead th {\n",
       "        text-align: right;\n",
       "    }\n",
       "</style>\n",
       "<table border=\"1\" class=\"dataframe\">\n",
       "  <thead>\n",
       "    <tr style=\"text-align: right;\">\n",
       "      <th></th>\n",
       "      <th>race_Asian</th>\n",
       "      <th>race_Caucasian</th>\n",
       "      <th>race_Hispanic</th>\n",
       "      <th>race_Other</th>\n",
       "      <th>race_RACE</th>\n",
       "      <th>gender_Male</th>\n",
       "      <th>gender_Unknown/Invalid</th>\n",
       "      <th>max_glu_serum_&gt;300</th>\n",
       "      <th>max_glu_serum_None</th>\n",
       "      <th>max_glu_serum_Norm</th>\n",
       "      <th>...</th>\n",
       "      <th>admission_source_id_Not Available</th>\n",
       "      <th>admission_source_id_Physician Referral</th>\n",
       "      <th>admission_source_id_Sick Baby</th>\n",
       "      <th>admission_source_id_Transfer From Another Home Health Agency</th>\n",
       "      <th>admission_source_id_Transfer from Hospice</th>\n",
       "      <th>admission_source_id_Transfer from a Skilled Nursing Facility (SNF)</th>\n",
       "      <th>admission_source_id_Transfer from a hospital</th>\n",
       "      <th>admission_source_id_Transfer from another health care facility</th>\n",
       "      <th>admission_source_id_Transfer from critial access hospital</th>\n",
       "      <th>admission_source_id_Unknown/Invalid</th>\n",
       "    </tr>\n",
       "  </thead>\n",
       "  <tbody>\n",
       "    <tr>\n",
       "      <th>1</th>\n",
       "      <td>0</td>\n",
       "      <td>1</td>\n",
       "      <td>0</td>\n",
       "      <td>0</td>\n",
       "      <td>0</td>\n",
       "      <td>0</td>\n",
       "      <td>0</td>\n",
       "      <td>0</td>\n",
       "      <td>1</td>\n",
       "      <td>0</td>\n",
       "      <td>...</td>\n",
       "      <td>0</td>\n",
       "      <td>0</td>\n",
       "      <td>0</td>\n",
       "      <td>0</td>\n",
       "      <td>0</td>\n",
       "      <td>0</td>\n",
       "      <td>0</td>\n",
       "      <td>0</td>\n",
       "      <td>0</td>\n",
       "      <td>0</td>\n",
       "    </tr>\n",
       "    <tr>\n",
       "      <th>2</th>\n",
       "      <td>0</td>\n",
       "      <td>0</td>\n",
       "      <td>0</td>\n",
       "      <td>0</td>\n",
       "      <td>0</td>\n",
       "      <td>0</td>\n",
       "      <td>0</td>\n",
       "      <td>0</td>\n",
       "      <td>1</td>\n",
       "      <td>0</td>\n",
       "      <td>...</td>\n",
       "      <td>0</td>\n",
       "      <td>0</td>\n",
       "      <td>0</td>\n",
       "      <td>0</td>\n",
       "      <td>0</td>\n",
       "      <td>0</td>\n",
       "      <td>0</td>\n",
       "      <td>0</td>\n",
       "      <td>0</td>\n",
       "      <td>0</td>\n",
       "    </tr>\n",
       "    <tr>\n",
       "      <th>3</th>\n",
       "      <td>0</td>\n",
       "      <td>1</td>\n",
       "      <td>0</td>\n",
       "      <td>0</td>\n",
       "      <td>0</td>\n",
       "      <td>1</td>\n",
       "      <td>0</td>\n",
       "      <td>0</td>\n",
       "      <td>1</td>\n",
       "      <td>0</td>\n",
       "      <td>...</td>\n",
       "      <td>0</td>\n",
       "      <td>0</td>\n",
       "      <td>0</td>\n",
       "      <td>0</td>\n",
       "      <td>0</td>\n",
       "      <td>0</td>\n",
       "      <td>0</td>\n",
       "      <td>0</td>\n",
       "      <td>0</td>\n",
       "      <td>0</td>\n",
       "    </tr>\n",
       "    <tr>\n",
       "      <th>4</th>\n",
       "      <td>0</td>\n",
       "      <td>1</td>\n",
       "      <td>0</td>\n",
       "      <td>0</td>\n",
       "      <td>0</td>\n",
       "      <td>1</td>\n",
       "      <td>0</td>\n",
       "      <td>0</td>\n",
       "      <td>1</td>\n",
       "      <td>0</td>\n",
       "      <td>...</td>\n",
       "      <td>0</td>\n",
       "      <td>0</td>\n",
       "      <td>0</td>\n",
       "      <td>0</td>\n",
       "      <td>0</td>\n",
       "      <td>0</td>\n",
       "      <td>0</td>\n",
       "      <td>0</td>\n",
       "      <td>0</td>\n",
       "      <td>0</td>\n",
       "    </tr>\n",
       "    <tr>\n",
       "      <th>5</th>\n",
       "      <td>0</td>\n",
       "      <td>1</td>\n",
       "      <td>0</td>\n",
       "      <td>0</td>\n",
       "      <td>0</td>\n",
       "      <td>1</td>\n",
       "      <td>0</td>\n",
       "      <td>0</td>\n",
       "      <td>1</td>\n",
       "      <td>0</td>\n",
       "      <td>...</td>\n",
       "      <td>0</td>\n",
       "      <td>0</td>\n",
       "      <td>0</td>\n",
       "      <td>0</td>\n",
       "      <td>0</td>\n",
       "      <td>0</td>\n",
       "      <td>0</td>\n",
       "      <td>0</td>\n",
       "      <td>0</td>\n",
       "      <td>0</td>\n",
       "    </tr>\n",
       "  </tbody>\n",
       "</table>\n",
       "<p>5 rows × 106 columns</p>\n",
       "</div>"
      ],
      "text/plain": [
       "   race_Asian  race_Caucasian  race_Hispanic  race_Other  race_RACE  \\\n",
       "1           0               1              0           0          0   \n",
       "2           0               0              0           0          0   \n",
       "3           0               1              0           0          0   \n",
       "4           0               1              0           0          0   \n",
       "5           0               1              0           0          0   \n",
       "\n",
       "   gender_Male  gender_Unknown/Invalid  max_glu_serum_>300  \\\n",
       "1            0                       0                   0   \n",
       "2            0                       0                   0   \n",
       "3            1                       0                   0   \n",
       "4            1                       0                   0   \n",
       "5            1                       0                   0   \n",
       "\n",
       "   max_glu_serum_None  max_glu_serum_Norm  \\\n",
       "1                   1                   0   \n",
       "2                   1                   0   \n",
       "3                   1                   0   \n",
       "4                   1                   0   \n",
       "5                   1                   0   \n",
       "\n",
       "                  ...                   admission_source_id_Not Available  \\\n",
       "1                 ...                                                   0   \n",
       "2                 ...                                                   0   \n",
       "3                 ...                                                   0   \n",
       "4                 ...                                                   0   \n",
       "5                 ...                                                   0   \n",
       "\n",
       "   admission_source_id_Physician Referral  admission_source_id_Sick Baby  \\\n",
       "1                                       0                              0   \n",
       "2                                       0                              0   \n",
       "3                                       0                              0   \n",
       "4                                       0                              0   \n",
       "5                                       0                              0   \n",
       "\n",
       "   admission_source_id_Transfer From Another Home Health Agency  \\\n",
       "1                                                  0              \n",
       "2                                                  0              \n",
       "3                                                  0              \n",
       "4                                                  0              \n",
       "5                                                  0              \n",
       "\n",
       "   admission_source_id_Transfer from Hospice  \\\n",
       "1                                          0   \n",
       "2                                          0   \n",
       "3                                          0   \n",
       "4                                          0   \n",
       "5                                          0   \n",
       "\n",
       "   admission_source_id_Transfer from a Skilled Nursing Facility (SNF)  \\\n",
       "1                                                  0                    \n",
       "2                                                  0                    \n",
       "3                                                  0                    \n",
       "4                                                  0                    \n",
       "5                                                  0                    \n",
       "\n",
       "   admission_source_id_Transfer from a hospital  \\\n",
       "1                                             0   \n",
       "2                                             0   \n",
       "3                                             0   \n",
       "4                                             0   \n",
       "5                                             0   \n",
       "\n",
       "   admission_source_id_Transfer from another health care facility  \\\n",
       "1                                                  0                \n",
       "2                                                  0                \n",
       "3                                                  0                \n",
       "4                                                  0                \n",
       "5                                                  0                \n",
       "\n",
       "   admission_source_id_Transfer from critial access hospital  \\\n",
       "1                                                  0           \n",
       "2                                                  0           \n",
       "3                                                  0           \n",
       "4                                                  0           \n",
       "5                                                  0           \n",
       "\n",
       "   admission_source_id_Unknown/Invalid  \n",
       "1                                    0  \n",
       "2                                    0  \n",
       "3                                    0  \n",
       "4                                    0  \n",
       "5                                    0  \n",
       "\n",
       "[5 rows x 106 columns]"
      ]
     },
     "execution_count": 102,
     "metadata": {},
     "output_type": "execute_result"
    }
   ],
   "source": [
    "df_cat[1:20].head()"
   ]
  },
  {
   "cell_type": "code",
   "execution_count": 103,
   "metadata": {},
   "outputs": [
    {
     "name": "stdout",
     "output_type": "stream",
     "text": [
      "['race_Asian', 'race_Caucasian', 'race_Hispanic', 'race_Other', 'race_RACE', 'gender_Male', 'gender_Unknown/Invalid', 'max_glu_serum_>300', 'max_glu_serum_None', 'max_glu_serum_Norm', 'A1Cresult_>8', 'A1Cresult_None', 'A1Cresult_Norm', 'metformin_No', 'metformin_Steady', 'metformin_Up', 'repaglinide_No', 'repaglinide_Steady', 'repaglinide_Up', 'nateglinide_No', 'nateglinide_Steady', 'nateglinide_Up', 'chlorpropamide_No', 'chlorpropamide_Steady', 'chlorpropamide_Up', 'glimepiride_No', 'glimepiride_Steady', 'glimepiride_Up', 'acetohexamide_Steady', 'glipizide_No', 'glipizide_Steady', 'glipizide_Up', 'glyburide_No', 'glyburide_Steady', 'glyburide_Up', 'tolbutamide_Steady', 'pioglitazone_No', 'pioglitazone_Steady', 'pioglitazone_Up', 'rosiglitazone_No', 'rosiglitazone_Steady', 'rosiglitazone_Up', 'acarbose_No', 'acarbose_Steady', 'acarbose_Up', 'miglitol_No', 'miglitol_Steady', 'miglitol_Up', 'troglitazone_Steady', 'tolazamide_Steady', 'tolazamide_Up', 'insulin_No', 'insulin_Steady', 'insulin_Up', 'glyburide-metformin_No', 'glyburide-metformin_Steady', 'glyburide-metformin_Up', 'glipizide-metformin_Steady', 'glimepiride-pioglitazone_Steady', 'metformin-rosiglitazone_Steady', 'metformin-pioglitazone_Steady', 'change_No', 'diabetesMed_Yes', 'admission_type_id_Emergency', 'admission_type_id_NULL', 'admission_type_id_Newborn', 'admission_type_id_Not Available', 'admission_type_id_Not Mapped', 'admission_type_id_Trauma Center', 'admission_type_id_Urgent', 'discharge_disposition_id_Discharged to home', 'discharge_disposition_id_Discharged/transferred to ICF', 'discharge_disposition_id_Discharged/transferred to SNF', 'discharge_disposition_id_Discharged/transferred to a federal health care facility.', 'discharge_disposition_id_Discharged/transferred to a long term care hospital.', 'discharge_disposition_id_Discharged/transferred to a nursing facility certified under Medicaid but not certified under Medicare.', 'discharge_disposition_id_Discharged/transferred to another Type of Health Care Institution not Defined Elsewhere', 'discharge_disposition_id_Discharged/transferred to another rehab fac including rehab units of a hospital .', 'discharge_disposition_id_Discharged/transferred to another short term hospital', 'discharge_disposition_id_Discharged/transferred to another type of inpatient care institution', 'discharge_disposition_id_Discharged/transferred to home under care of Home IV provider', 'discharge_disposition_id_Discharged/transferred to home with home health service', 'discharge_disposition_id_Discharged/transferred within this institution to Medicare approved swing bed', 'discharge_disposition_id_Discharged/transferred/referred another institution for outpatient services', 'discharge_disposition_id_Discharged/transferred/referred to this institution for outpatient services', 'discharge_disposition_id_Left AMA', 'discharge_disposition_id_NULL', 'discharge_disposition_id_Neonate discharged to another hospital for neonatal aftercare', 'discharge_disposition_id_Not Mapped', 'discharge_disposition_id_Still patient or expected to return for outpatient services', 'admission_source_id_Clinic Referral', 'admission_source_id_Court/Law Enforcement', 'admission_source_id_Emergency Room', 'admission_source_id_Extramural Birth', 'admission_source_id_HMO Referral', 'admission_source_id_Normal Delivery', 'admission_source_id_Not Available', 'admission_source_id_Physician Referral', 'admission_source_id_Sick Baby', 'admission_source_id_Transfer From Another Home Health Agency', 'admission_source_id_Transfer from Hospice', 'admission_source_id_Transfer from a Skilled Nursing Facility (SNF)', 'admission_source_id_Transfer from a hospital', 'admission_source_id_Transfer from another health care facility', 'admission_source_id_Transfer from critial access hospital', 'admission_source_id_Unknown/Invalid']\n"
     ]
    }
   ],
   "source": [
    "col1=[]\n",
    "for c in df_cat.columns:\n",
    "    col1 = col1+[c]\n",
    "print(col1)"
   ]
  },
  {
   "cell_type": "code",
   "execution_count": 104,
   "metadata": {},
   "outputs": [],
   "source": [
    "df_icd = pd.concat([df_icd,df_cat], axis = 1)"
   ]
  },
  {
   "cell_type": "code",
   "execution_count": 105,
   "metadata": {},
   "outputs": [],
   "source": [
    "\n",
    "cols_all_cat = list(df_cat.columns)"
   ]
  },
  {
   "cell_type": "code",
   "execution_count": 106,
   "metadata": {},
   "outputs": [],
   "source": [
    "age_id = {'[0-10)':0, \n",
    "          '[10-20)':10, \n",
    "          '[20-30)':20, \n",
    "          '[30-40)':30, \n",
    "          '[40-50)':40, \n",
    "          '[50-60)':50,\n",
    "          '[60-70)':60, \n",
    "          '[70-80)':70, \n",
    "          '[80-90)':80, \n",
    "          '[90-100)':90}\n",
    "df_icd['age_group'] = df_icd.age.replace(age_id)\n",
    "cols_extra = ['age_group']"
   ]
  },
  {
   "cell_type": "code",
   "execution_count": 107,
   "metadata": {},
   "outputs": [
    {
     "data": {
      "text/html": [
       "<div>\n",
       "<style scoped>\n",
       "    .dataframe tbody tr th:only-of-type {\n",
       "        vertical-align: middle;\n",
       "    }\n",
       "\n",
       "    .dataframe tbody tr th {\n",
       "        vertical-align: top;\n",
       "    }\n",
       "\n",
       "    .dataframe thead th {\n",
       "        text-align: right;\n",
       "    }\n",
       "</style>\n",
       "<table border=\"1\" class=\"dataframe\">\n",
       "  <thead>\n",
       "    <tr style=\"text-align: right;\">\n",
       "      <th></th>\n",
       "      <th>encounter_id</th>\n",
       "      <th>patient_nbr</th>\n",
       "      <th>race</th>\n",
       "      <th>gender</th>\n",
       "      <th>age</th>\n",
       "      <th>admission_type_id</th>\n",
       "      <th>discharge_disposition_id</th>\n",
       "      <th>admission_source_id</th>\n",
       "      <th>time_in_hospital</th>\n",
       "      <th>num_lab_procedures</th>\n",
       "      <th>...</th>\n",
       "      <th>admission_source_id_Physician Referral</th>\n",
       "      <th>admission_source_id_Sick Baby</th>\n",
       "      <th>admission_source_id_Transfer From Another Home Health Agency</th>\n",
       "      <th>admission_source_id_Transfer from Hospice</th>\n",
       "      <th>admission_source_id_Transfer from a Skilled Nursing Facility (SNF)</th>\n",
       "      <th>admission_source_id_Transfer from a hospital</th>\n",
       "      <th>admission_source_id_Transfer from another health care facility</th>\n",
       "      <th>admission_source_id_Transfer from critial access hospital</th>\n",
       "      <th>admission_source_id_Unknown/Invalid</th>\n",
       "      <th>age_group</th>\n",
       "    </tr>\n",
       "  </thead>\n",
       "  <tbody>\n",
       "    <tr>\n",
       "      <th>0</th>\n",
       "      <td>2278392</td>\n",
       "      <td>8222157</td>\n",
       "      <td>Caucasian</td>\n",
       "      <td>Female</td>\n",
       "      <td>[0-10)</td>\n",
       "      <td>NULL</td>\n",
       "      <td>Not Mapped</td>\n",
       "      <td>Physician Referral</td>\n",
       "      <td>1</td>\n",
       "      <td>41</td>\n",
       "      <td>...</td>\n",
       "      <td>1</td>\n",
       "      <td>0</td>\n",
       "      <td>0</td>\n",
       "      <td>0</td>\n",
       "      <td>0</td>\n",
       "      <td>0</td>\n",
       "      <td>0</td>\n",
       "      <td>0</td>\n",
       "      <td>0</td>\n",
       "      <td>0</td>\n",
       "    </tr>\n",
       "    <tr>\n",
       "      <th>1</th>\n",
       "      <td>149190</td>\n",
       "      <td>55629189</td>\n",
       "      <td>Caucasian</td>\n",
       "      <td>Female</td>\n",
       "      <td>[10-20)</td>\n",
       "      <td>Emergency</td>\n",
       "      <td>Discharged to home</td>\n",
       "      <td>Emergency Room</td>\n",
       "      <td>3</td>\n",
       "      <td>59</td>\n",
       "      <td>...</td>\n",
       "      <td>0</td>\n",
       "      <td>0</td>\n",
       "      <td>0</td>\n",
       "      <td>0</td>\n",
       "      <td>0</td>\n",
       "      <td>0</td>\n",
       "      <td>0</td>\n",
       "      <td>0</td>\n",
       "      <td>0</td>\n",
       "      <td>10</td>\n",
       "    </tr>\n",
       "    <tr>\n",
       "      <th>2</th>\n",
       "      <td>64410</td>\n",
       "      <td>86047875</td>\n",
       "      <td>AfricanAmerican</td>\n",
       "      <td>Female</td>\n",
       "      <td>[20-30)</td>\n",
       "      <td>Emergency</td>\n",
       "      <td>Discharged to home</td>\n",
       "      <td>Emergency Room</td>\n",
       "      <td>2</td>\n",
       "      <td>11</td>\n",
       "      <td>...</td>\n",
       "      <td>0</td>\n",
       "      <td>0</td>\n",
       "      <td>0</td>\n",
       "      <td>0</td>\n",
       "      <td>0</td>\n",
       "      <td>0</td>\n",
       "      <td>0</td>\n",
       "      <td>0</td>\n",
       "      <td>0</td>\n",
       "      <td>20</td>\n",
       "    </tr>\n",
       "    <tr>\n",
       "      <th>3</th>\n",
       "      <td>500364</td>\n",
       "      <td>82442376</td>\n",
       "      <td>Caucasian</td>\n",
       "      <td>Male</td>\n",
       "      <td>[30-40)</td>\n",
       "      <td>Emergency</td>\n",
       "      <td>Discharged to home</td>\n",
       "      <td>Emergency Room</td>\n",
       "      <td>2</td>\n",
       "      <td>44</td>\n",
       "      <td>...</td>\n",
       "      <td>0</td>\n",
       "      <td>0</td>\n",
       "      <td>0</td>\n",
       "      <td>0</td>\n",
       "      <td>0</td>\n",
       "      <td>0</td>\n",
       "      <td>0</td>\n",
       "      <td>0</td>\n",
       "      <td>0</td>\n",
       "      <td>30</td>\n",
       "    </tr>\n",
       "    <tr>\n",
       "      <th>4</th>\n",
       "      <td>16680</td>\n",
       "      <td>42519267</td>\n",
       "      <td>Caucasian</td>\n",
       "      <td>Male</td>\n",
       "      <td>[40-50)</td>\n",
       "      <td>Emergency</td>\n",
       "      <td>Discharged to home</td>\n",
       "      <td>Emergency Room</td>\n",
       "      <td>1</td>\n",
       "      <td>51</td>\n",
       "      <td>...</td>\n",
       "      <td>0</td>\n",
       "      <td>0</td>\n",
       "      <td>0</td>\n",
       "      <td>0</td>\n",
       "      <td>0</td>\n",
       "      <td>0</td>\n",
       "      <td>0</td>\n",
       "      <td>0</td>\n",
       "      <td>0</td>\n",
       "      <td>40</td>\n",
       "    </tr>\n",
       "  </tbody>\n",
       "</table>\n",
       "<p>5 rows × 153 columns</p>\n",
       "</div>"
      ],
      "text/plain": [
       "   encounter_id  patient_nbr             race  gender      age  \\\n",
       "0       2278392      8222157        Caucasian  Female   [0-10)   \n",
       "1        149190     55629189        Caucasian  Female  [10-20)   \n",
       "2         64410     86047875  AfricanAmerican  Female  [20-30)   \n",
       "3        500364     82442376        Caucasian    Male  [30-40)   \n",
       "4         16680     42519267        Caucasian    Male  [40-50)   \n",
       "\n",
       "  admission_type_id discharge_disposition_id admission_source_id  \\\n",
       "0              NULL               Not Mapped  Physician Referral   \n",
       "1         Emergency       Discharged to home      Emergency Room   \n",
       "2         Emergency       Discharged to home      Emergency Room   \n",
       "3         Emergency       Discharged to home      Emergency Room   \n",
       "4         Emergency       Discharged to home      Emergency Room   \n",
       "\n",
       "   time_in_hospital  num_lab_procedures    ...     \\\n",
       "0                 1                  41    ...      \n",
       "1                 3                  59    ...      \n",
       "2                 2                  11    ...      \n",
       "3                 2                  44    ...      \n",
       "4                 1                  51    ...      \n",
       "\n",
       "   admission_source_id_Physician Referral  admission_source_id_Sick Baby  \\\n",
       "0                                       1                              0   \n",
       "1                                       0                              0   \n",
       "2                                       0                              0   \n",
       "3                                       0                              0   \n",
       "4                                       0                              0   \n",
       "\n",
       "   admission_source_id_Transfer From Another Home Health Agency  \\\n",
       "0                                                  0              \n",
       "1                                                  0              \n",
       "2                                                  0              \n",
       "3                                                  0              \n",
       "4                                                  0              \n",
       "\n",
       "   admission_source_id_Transfer from Hospice  \\\n",
       "0                                          0   \n",
       "1                                          0   \n",
       "2                                          0   \n",
       "3                                          0   \n",
       "4                                          0   \n",
       "\n",
       "   admission_source_id_Transfer from a Skilled Nursing Facility (SNF)  \\\n",
       "0                                                  0                    \n",
       "1                                                  0                    \n",
       "2                                                  0                    \n",
       "3                                                  0                    \n",
       "4                                                  0                    \n",
       "\n",
       "  admission_source_id_Transfer from a hospital  \\\n",
       "0                                            0   \n",
       "1                                            0   \n",
       "2                                            0   \n",
       "3                                            0   \n",
       "4                                            0   \n",
       "\n",
       "  admission_source_id_Transfer from another health care facility  \\\n",
       "0                                                  0               \n",
       "1                                                  0               \n",
       "2                                                  0               \n",
       "3                                                  0               \n",
       "4                                                  0               \n",
       "\n",
       "  admission_source_id_Transfer from critial access hospital  \\\n",
       "0                                                  0          \n",
       "1                                                  0          \n",
       "2                                                  0          \n",
       "3                                                  0          \n",
       "4                                                  0          \n",
       "\n",
       "   admission_source_id_Unknown/Invalid age_group  \n",
       "0                                    0         0  \n",
       "1                                    0        10  \n",
       "2                                    0        20  \n",
       "3                                    0        30  \n",
       "4                                    0        40  \n",
       "\n",
       "[5 rows x 153 columns]"
      ]
     },
     "execution_count": 107,
     "metadata": {},
     "output_type": "execute_result"
    }
   ],
   "source": [
    "df_icd.head()"
   ]
  },
  {
   "cell_type": "code",
   "execution_count": 108,
   "metadata": {},
   "outputs": [
    {
     "name": "stdout",
     "output_type": "stream",
     "text": [
      "Total number of features: 115\n",
      "Numerical Features: 8\n",
      "Categorical Features: 106\n",
      "Extra features: 1\n"
     ]
    }
   ],
   "source": [
    "print('Total number of features:', len(cols_num + cols_all_cat + cols_extra))\n",
    "print('Numerical Features:',len(cols_num))\n",
    "print('Categorical Features:',len(cols_all_cat))\n",
    "print('Extra features:',len(cols_extra))"
   ]
  },
  {
   "cell_type": "code",
   "execution_count": 109,
   "metadata": {},
   "outputs": [
    {
     "data": {
      "text/plain": [
       "age_group                0\n",
       "nateglinide_Steady       0\n",
       "chlorpropamide_No        0\n",
       "chlorpropamide_Steady    0\n",
       "chlorpropamide_Up        0\n",
       "glimepiride_No           0\n",
       "glimepiride_Steady       0\n",
       "glimepiride_Up           0\n",
       "acetohexamide_Steady     0\n",
       "glipizide_No             0\n",
       "dtype: int64"
      ]
     },
     "execution_count": 109,
     "metadata": {},
     "output_type": "execute_result"
    }
   ],
   "source": [
    "df_icd[cols_num + cols_all_cat + cols_extra].isnull().sum().sort_values(ascending = False).head(10)\n"
   ]
  },
  {
   "cell_type": "code",
   "execution_count": 110,
   "metadata": {},
   "outputs": [],
   "source": [
    "col2 = cols_num + cols_all_cat + cols_extra\n",
    "df_data = df_icd[col2 + ['OUTPUT_LABEL']]"
   ]
  },
  {
   "cell_type": "code",
   "execution_count": 111,
   "metadata": {},
   "outputs": [
    {
     "data": {
      "text/plain": [
       "(99343, 116)"
      ]
     },
     "execution_count": 111,
     "metadata": {},
     "output_type": "execute_result"
    }
   ],
   "source": [
    "df_data.shape"
   ]
  },
  {
   "cell_type": "code",
   "execution_count": 112,
   "metadata": {},
   "outputs": [
    {
     "name": "stdout",
     "output_type": "stream",
     "text": [
      "Split size: 0.300\n"
     ]
    }
   ],
   "source": [
    "df_valid=df_data.sample(frac=0.30,random_state=42)\n",
    "print('Split size: %.3f'%(len(df_valid)/len(df_data)))"
   ]
  },
  {
   "cell_type": "code",
   "execution_count": 113,
   "metadata": {},
   "outputs": [],
   "source": [
    "df_test = df_valid.sample(frac = 0.5, random_state = 42)\n",
    "df_valid1 = df_valid.drop(df_test.index)"
   ]
  },
  {
   "cell_type": "code",
   "execution_count": 114,
   "metadata": {},
   "outputs": [],
   "source": [
    "df_train=df_data.drop(df_valid.index)"
   ]
  },
  {
   "cell_type": "code",
   "execution_count": 115,
   "metadata": {},
   "outputs": [
    {
     "name": "stdout",
     "output_type": "stream",
     "text": [
      "Test prevalence(n = 14902):0.472\n",
      "Valid prevalence(n = 14901):0.477\n",
      "Train all prevalence(n = 69540):0.470\n"
     ]
    }
   ],
   "source": [
    "\n",
    "print('Test prevalence(n = %d):%.3f'%(len(df_test),calc_prevalence(df_test.OUTPUT_LABEL.values)))\n",
    "print('Valid prevalence(n = %d):%.3f'%(len(df_valid1),calc_prevalence(df_valid1.OUTPUT_LABEL.values)))\n",
    "print('Train all prevalence(n = %d):%.3f'%(len(df_train), calc_prevalence(df_train.OUTPUT_LABEL.values)))"
   ]
  },
  {
   "cell_type": "code",
   "execution_count": 116,
   "metadata": {},
   "outputs": [],
   "source": [
    "\n",
    "X_train = df_train[col2].values\n",
    "X_valid = df_valid1[col2].values\n",
    "\n",
    "y_train = df_train['OUTPUT_LABEL'].values\n",
    "y_valid = df_valid1['OUTPUT_LABEL'].values"
   ]
  },
  {
   "cell_type": "code",
   "execution_count": 117,
   "metadata": {},
   "outputs": [],
   "source": [
    "\n",
    "from sklearn.metrics import roc_auc_score, accuracy_score, precision_score, recall_score\n",
    "def calc_specificity(y_actual, y_pred, thresh):\n",
    "    # calculates specificity\n",
    "    return sum((y_pred < thresh) & (y_actual == 0)) /sum(y_actual ==0)\n",
    "\n",
    "def print_report(y_actual, y_pred, thresh):\n",
    "    \n",
    "    auc = roc_auc_score(y_actual, y_pred)\n",
    "    accuracy = accuracy_score(y_actual, (y_pred > thresh))\n",
    "    recall = recall_score(y_actual, (y_pred > thresh))\n",
    "    precision = precision_score(y_actual, (y_pred > thresh))\n",
    "    specificity = calc_specificity(y_actual, y_pred, thresh)\n",
    "    print('AUC:%.3f'%auc)\n",
    "    print('accuracy:%.3f'%accuracy)\n",
    "    print('recall:%.3f'%recall)\n",
    "    print('precision:%.3f'%precision)\n",
    "    print('specificity:%.3f'%specificity)\n",
    "    print('prevalence:%.3f'%calc_prevalence(y_actual))\n",
    "    print(' ')\n",
    "    return auc, accuracy, recall, precision, specificity"
   ]
  },
  {
   "cell_type": "code",
   "execution_count": 118,
   "metadata": {},
   "outputs": [],
   "source": [
    "thresh = 0.5"
   ]
  },
  {
   "cell_type": "code",
   "execution_count": 119,
   "metadata": {},
   "outputs": [
    {
     "data": {
      "text/plain": [
       "DecisionTreeClassifier(class_weight=None, criterion='gini', max_depth=10,\n",
       "            max_features=None, max_leaf_nodes=None,\n",
       "            min_impurity_decrease=0.0, min_impurity_split=None,\n",
       "            min_samples_leaf=1, min_samples_split=2,\n",
       "            min_weight_fraction_leaf=0.0, presort=False, random_state=42,\n",
       "            splitter='best')"
      ]
     },
     "execution_count": 119,
     "metadata": {},
     "output_type": "execute_result"
    }
   ],
   "source": [
    "\n",
    "from sklearn.tree import DecisionTreeClassifier\n",
    "\n",
    "tree = DecisionTreeClassifier(max_depth = 10, random_state = 42)\n",
    "tree.fit(X_train, y_train)"
   ]
  },
  {
   "cell_type": "code",
   "execution_count": null,
   "metadata": {},
   "outputs": [],
   "source": []
  },
  {
   "cell_type": "code",
   "execution_count": 120,
   "metadata": {},
   "outputs": [
    {
     "name": "stdout",
     "output_type": "stream",
     "text": [
      "Decision Tree\n",
      "Training:\n",
      "AUC:0.707\n",
      "accuracy:0.649\n",
      "recall:0.514\n",
      "precision:0.663\n",
      "specificity:0.764\n",
      "prevalence:0.470\n",
      " \n",
      "Validation:\n",
      "AUC:0.653\n",
      "accuracy:0.612\n",
      "recall:0.469\n",
      "precision:0.625\n",
      "specificity:0.739\n",
      "prevalence:0.477\n",
      " \n"
     ]
    }
   ],
   "source": [
    "\n",
    "y_train_preds = tree.predict_proba(X_train)[:,1]\n",
    "y_valid_preds = tree.predict_proba(X_valid)[:,1]\n",
    "\n",
    "print('Decision Tree')\n",
    "print('Training:')\n",
    "tree_train_auc, tree_train_accuracy, tree_train_recall, tree_train_precision, tree_train_specificity =print_report(y_train,y_train_preds, thresh)\n",
    "print('Validation:')\n",
    "tree_valid_auc, tree_valid_accuracy, tree_valid_recall, tree_valid_precision, tree_valid_specificity = print_report(y_valid,y_valid_preds, thresh)"
   ]
  },
  {
   "cell_type": "code",
   "execution_count": 121,
   "metadata": {},
   "outputs": [],
   "source": [
    "def preprocess(df):\n",
    "    df1 = df.drop(['weight','payer_code','medical_specialty'], axis = 1)\n",
    "    df1 = df1.drop(['examide','citoglipton'], axis=1)\n",
    "    df.admission_type_id.replace(\n",
    "    list(range(1,9)),['Emergency',\n",
    "    'Urgent',\n",
    "    'Elective',\n",
    "    'Newborn',\n",
    "    'Not Available',\n",
    "    'NULL',\n",
    "    'Trauma Center',\n",
    "    'Not Mapped'], inplace=True)\n",
    "    id_list = ['Physician Referral',\n",
    "    'Clinic Referral',\n",
    "    'HMO Referral',\n",
    "    'Transfer from a hospital',\n",
    "    'Transfer from a Skilled Nursing Facility (SNF)',\n",
    "    'Transfer from another health care facility',\n",
    "    'Emergency Room',\n",
    "    'Court/Law Enforcement',\n",
    "    'Not Available',\n",
    "    'Transfer from critial access hospital',\n",
    "    'Normal Delivery',\n",
    "    'Premature Delivery',\n",
    "    'Sick Baby',\n",
    "    'Extramural Birth',\n",
    "    'Not Available',\n",
    "    'NULL',\n",
    "    'Transfer From Another Home Health Agency',\n",
    "    'Readmission to Same Home Health Agency',\n",
    "    'Not Mapped',\n",
    "    'Unknown/Invalid',\n",
    "    'Transfer from hospital inpt/same fac reslt in a sep claim',\n",
    "    'Born inside this hospital',\n",
    "    'Born outside this hospital',\n",
    "    'Transfer from Ambulatory Surgery Center',\n",
    "    'Transfer from Hospice']\n",
    "\n",
    "    df1.admission_source_id.replace(list(range(1,len(id_list)+1)),id_list, inplace=True)\n",
    "    id_list = ['Discharged to home','Discharged/transferred to another short term hospital','Discharged/transferred to SNF',\n",
    "    'Discharged/transferred to ICF','Discharged/transferred to another type of inpatient care institution',\n",
    "    'Discharged/transferred to home with home health service','Left AMA','Discharged/transferred to home under care of Home IV provider',\n",
    "    'Admitted as an inpatient to this hospital',\n",
    "    'Neonate discharged to another hospital for neonatal aftercare',\n",
    "    'Expired',\n",
    "    'Still patient or expected to return for outpatient services',\n",
    "    'Hospice / home',\n",
    "    'Hospice / medical facility',\n",
    "    'Discharged/transferred within this institution to Medicare approved swing bed',\n",
    "    'Discharged/transferred/referred another institution for outpatient services',\n",
    "    'Discharged/transferred/referred to this institution for outpatient services',\n",
    "    'NULL',\n",
    "    'Expired at home. Medicaid only, hospice.',\n",
    "    'Expired in a medical facility. Medicaid only, hospice.',\n",
    "    'Expired, place unknown. Medicaid only, hospice.',\n",
    "    'Discharged/transferred to another rehab fac including rehab units of a hospital .',\n",
    "    'Discharged/transferred to a long term care hospital.',\n",
    "    'Discharged/transferred to a nursing facility certified under Medicaid but not certified under Medicare.',\n",
    "    'Not Mapped',\n",
    "    'Unknown/Invalid',\n",
    "    'Discharged/transferred to another Type of Health Care Institution not Defined Elsewhere',\n",
    "    'Discharged/transferred to a federal health care facility.',\n",
    "    'Discharged/transferred/referred to a psychiatric hospital of psychiatric distinct part unit of a hospital',\n",
    "    'Discharged/transferred to a Critical Access Hospital (CAH).']\n",
    "\n",
    "    df1.discharge_disposition_id.replace(list(range(1,len(id_list)+1)),id_list, inplace=True)\n",
    "    df1 = df1[df1.discharge_disposition_id.str.contains(\"Expired\") == False]\n",
    "    df1 = df1[df1.discharge_disposition_id.str.contains(\"Hospice\") == False]\n",
    "    numeric_code_ranges = [(1,139),(140,239),(240,279),(280,289),(290,319),(320,389),(390,459),(460,519),(520,579),(580,629),\n",
    "    (630,677),(680,709),(710,739),(740,759),  (760,779),  (780,799),(800,999)]\n",
    "    ICD9_diagnosis_groups = ['Infectious And Parasitic Diseases',\n",
    "    'Neoplasms',\n",
    "    'Endocrine, Nutritional And Metabolic Diseases, And Immunity Disorders',\n",
    "    'Diseases Of The Blood And Blood-Forming Organs',\n",
    "    'Mental Disorders',\n",
    "    'Diseases Of The Nervous System And Sense Organs',\n",
    "    'Diseases Of The Circulatory System',\n",
    "    'Diseases Of The Respiratory System',\n",
    "    'Diseases Of The Digestive System',\n",
    "    'Diseases Of The Genitourinary System',\n",
    "    'Complications Of Pregnancy, Childbirth, And The Puerperium',\n",
    "    'Diseases Of The Skin And Subcutaneous Tissue',\n",
    "    'Diseases Of The Musculoskeletal System And Connective Tissue',\n",
    "    'Congential Anomalies',\n",
    "    'Certain Conditions Originating In The Perinatal Period',\n",
    "    'Symptoms, Signs, And Ill-Defined Conditions',\n",
    "    'Injury And Poisoning']\n",
    "    codes = zip(numeric_code_ranges, ICD9_diagnosis_groups)\n",
    "    codeSet = set(codes)\n",
    "    df_icd = df1.copy()\n",
    "    for num_range, diagnosis in codeSet:\n",
    "        #print(num_range)\n",
    "        oldlist = range(num_range[0],num_range[1]+1)\n",
    "        oldlist = [x for x in oldlist]\n",
    "        newlist = [diagnosis] * len(oldlist)\n",
    "        for curr_col in ['diag_1', 'diag_2', 'diag_3']:\n",
    "            df_icd[curr_col].replace(oldlist, newlist, inplace=True)\n",
    "#             print(df_icd[curr_col])\n",
    "    for curr_col in ['diag_1', 'diag_2', 'diag_3']:\n",
    "        df_icd[curr_col].replace(oldlist, newlist, inplace=True)\n",
    "        if('V' in str(df_icd[curr_col][0])):\n",
    "            df_icd[curr_col] = 'Supplementary Classification Of Factors Influencing Health Status And Contact With Health Services'\n",
    "#         df_icd.loc[df_icd[curr_col].str.contains(\"V\"), curr_col] = 'Supplementary Classification Of Factors Influencing Health Status And Contact With Health Services'\n",
    "    for curr_col in ['diag_1', 'diag_2', 'diag_3']:\n",
    "        df_icd[curr_col].replace(oldlist, newlist, inplace=True)\n",
    "        if('E' in str(df_icd[curr_col][0])):\n",
    "             df_icd[curr_col] = 'Supplementary Classification Of External Causes Of Injury And Poisoning'\n",
    "#         df_icd.loc[df_icd[curr_col].str.contains('E'), curr_col] = 'Supplementary Classification Of External Causes Of Injury And Poisoning'\n",
    "    for curr_col in ['diag_1', 'diag_2', 'diag_3']:\n",
    "        df_icd[curr_col].replace(oldlist, newlist, inplace=True)\n",
    "        if('250' in str(df_icd[curr_col][0])):\n",
    "             df_icd[curr_col] = 'Diabetes mellitus'\n",
    "#         df_icd.loc[df_icd[curr_col].str.contains('250'), curr_col] ='Diabetes mellitus'\n",
    "    \n",
    "    df_icd = df_icd.replace('?',np.nan)\n",
    "    cols_num = ['time_in_hospital','num_lab_procedures', 'num_procedures', 'num_medications',\n",
    "       'number_outpatient', 'number_emergency', 'number_inpatient','number_diagnoses']\n",
    "    df_icd['race'] = df_icd['race'].fillna('RACE')\n",
    "    cols_cat = ['race', 'gender', \n",
    "       'max_glu_serum', 'A1Cresult',\n",
    "       'metformin', 'repaglinide', 'nateglinide', 'chlorpropamide',\n",
    "       'glimepiride', 'acetohexamide', 'glipizide', 'glyburide', 'tolbutamide',\n",
    "       'pioglitazone', 'rosiglitazone', 'acarbose', 'miglitol', 'troglitazone',\n",
    "       'tolazamide', 'insulin',\n",
    "       'glyburide-metformin', 'glipizide-metformin',\n",
    "       'glimepiride-pioglitazone', 'metformin-rosiglitazone',\n",
    "       'metformin-pioglitazone', 'change', 'diabetesMed','admission_type_id',\n",
    "        'discharge_disposition_id', 'admission_source_id']\n",
    "    print(df_icd.shape)\n",
    "    col1 = ['race_Asian', 'race_Caucasian', 'race_Hispanic', 'race_Other', 'race_RACE', 'gender_Male', 'gender_Unknown/Invalid',\n",
    "            'max_glu_serum_>300', 'max_glu_serum_None', 'max_glu_serum_Norm', 'A1Cresult_>8', 'A1Cresult_None', 'A1Cresult_Norm',\n",
    "            'metformin_No', 'metformin_Steady', 'metformin_Up', 'repaglinide_No', 'repaglinide_Steady', 'repaglinide_Up', \n",
    "            'nateglinide_No', 'nateglinide_Steady', 'nateglinide_Up', 'chlorpropamide_No', 'chlorpropamide_Steady', \n",
    "            'chlorpropamide_Up', 'glimepiride_No', 'glimepiride_Steady', 'glimepiride_Up', 'acetohexamide_Steady',\n",
    "            'glipizide_No', 'glipizide_Steady', 'glipizide_Up', 'glyburide_No', 'glyburide_Steady', 'glyburide_Up',\n",
    "            'tolbutamide_Steady', 'pioglitazone_No', 'pioglitazone_Steady', 'pioglitazone_Up', 'rosiglitazone_No',\n",
    "            'rosiglitazone_Steady', 'rosiglitazone_Up', 'acarbose_No', 'acarbose_Steady', 'acarbose_Up', 'miglitol_No', \n",
    "            'miglitol_Steady', 'miglitol_Up', 'troglitazone_Steady', 'tolazamide_Steady', 'tolazamide_Up', 'insulin_No',\n",
    "            'insulin_Steady', 'insulin_Up', 'glyburide-metformin_No', 'glyburide-metformin_Steady', 'glyburide-metformin_Up', \n",
    "            'glipizide-metformin_Steady', 'glimepiride-pioglitazone_Steady', 'metformin-rosiglitazone_Steady', \n",
    "            'metformin-pioglitazone_Steady', 'change_No', 'diabetesMed_Yes', 'admission_type_id_Emergency', \n",
    "            'admission_type_id_NULL', 'admission_type_id_Newborn', 'admission_type_id_Not Available', \n",
    "            'admission_type_id_Not Mapped', 'admission_type_id_Trauma Center', 'admission_type_id_Urgent',\n",
    "            'discharge_disposition_id_Discharged to home', 'discharge_disposition_id_Discharged/transferred to ICF',\n",
    "            'discharge_disposition_id_Discharged/transferred to SNF', \n",
    "            'discharge_disposition_id_Discharged/transferred to a federal health care facility.',\n",
    "            'discharge_disposition_id_Discharged/transferred to a long term care hospital.', \n",
    "            'discharge_disposition_id_Discharged/transferred to a nursing facility certified under Medicaid but not certified under Medicare.', 'discharge_disposition_id_Discharged/transferred to another Type of Health Care Institution not Defined Elsewhere', \n",
    "            'discharge_disposition_id_Discharged/transferred to another rehab fac including rehab units of a hospital .', \n",
    "            'discharge_disposition_id_Discharged/transferred to another short term hospital',\n",
    "            'discharge_disposition_id_Discharged/transferred to another type of inpatient care institution',\n",
    "            'discharge_disposition_id_Discharged/transferred to home under care of Home IV provider', \n",
    "            'discharge_disposition_id_Discharged/transferred to home with home health service',\n",
    "            'discharge_disposition_id_Discharged/transferred within this institution to Medicare approved swing bed', \n",
    "            'discharge_disposition_id_Discharged/transferred/referred another institution for outpatient services', \n",
    "            'discharge_disposition_id_Discharged/transferred/referred to this institution for outpatient services', \n",
    "            'discharge_disposition_id_Left AMA', 'discharge_disposition_id_NULL', \n",
    "            'discharge_disposition_id_Neonate discharged to another hospital for neonatal aftercare', \n",
    "            'discharge_disposition_id_Not Mapped', 'discharge_disposition_id_Still patient or expected to return for outpatient services',\n",
    "            'admission_source_id_Clinic Referral', 'admission_source_id_Court/Law Enforcement', 'admission_source_id_Emergency Room', \n",
    "            'admission_source_id_Extramural Birth', 'admission_source_id_HMO Referral', 'admission_source_id_Normal Delivery',\n",
    "            'admission_source_id_Not Available', 'admission_source_id_Physician Referral', 'admission_source_id_Sick Baby',\n",
    "            'admission_source_id_Transfer From Another Home Health Agency', 'admission_source_id_Transfer from Hospice',\n",
    "            'admission_source_id_Transfer from a Skilled Nursing Facility (SNF)', 'admission_source_id_Transfer from a hospital', \n",
    "            'admission_source_id_Transfer from another health care facility', 'admission_source_id_Transfer from critial access hospital',\n",
    "            'admission_source_id_Unknown/Invalid']\n",
    "    df_cat = df_icd[cols_cat]\n",
    "    df_cat = pd.get_dummies(df_cat)\n",
    "    df_cat = df_cat.reindex(columns = col1,fill_value=0)\n",
    "    #print(df_cat)\n",
    "    df_icd = df_icd.drop(cols_cat,axis=1)\n",
    "    df_icd = pd.concat([df_icd,df_cat], axis = 1)\n",
    "    cols_all_cat = list(df_cat.columns)\n",
    "    \n",
    "    age_id = {'[0-10)':0, \n",
    "          '[10-20)':10, \n",
    "          '[20-30)':20, \n",
    "          '[30-40)':30, \n",
    "          '[40-50)':40, \n",
    "          '[50-60)':50,\n",
    "          '[60-70)':60, \n",
    "          '[70-80)':70, \n",
    "          '[80-90)':80, \n",
    "          '[90-100)':90}\n",
    "    df_icd['age_group'] = df_icd.age.replace(age_id)\n",
    "    cols_extra = ['age_group']\n",
    "    print(df_icd.shape)\n",
    "    col2 = cols_num + cols_all_cat + cols_extra\n",
    "    #print(df_icd)\n",
    "    df_data = df_icd[col2]\n",
    "    return df_data\n",
    "    \n",
    "    \n",
    "    \n",
    "    "
   ]
  },
  {
   "cell_type": "code",
   "execution_count": 131,
   "metadata": {},
   "outputs": [],
   "source": []
  },
  {
   "cell_type": "code",
   "execution_count": 132,
   "metadata": {},
   "outputs": [
    {
     "name": "stdout",
     "output_type": "stream",
     "text": [
      "(1, 44)\n",
      "(1, 121)\n"
     ]
    },
    {
     "data": {
      "text/html": [
       "<div>\n",
       "<style scoped>\n",
       "    .dataframe tbody tr th:only-of-type {\n",
       "        vertical-align: middle;\n",
       "    }\n",
       "\n",
       "    .dataframe tbody tr th {\n",
       "        vertical-align: top;\n",
       "    }\n",
       "\n",
       "    .dataframe thead th {\n",
       "        text-align: right;\n",
       "    }\n",
       "</style>\n",
       "<table border=\"1\" class=\"dataframe\">\n",
       "  <thead>\n",
       "    <tr style=\"text-align: right;\">\n",
       "      <th></th>\n",
       "      <th>time_in_hospital</th>\n",
       "      <th>num_lab_procedures</th>\n",
       "      <th>num_procedures</th>\n",
       "      <th>num_medications</th>\n",
       "      <th>number_outpatient</th>\n",
       "      <th>number_emergency</th>\n",
       "      <th>number_inpatient</th>\n",
       "      <th>number_diagnoses</th>\n",
       "      <th>race_Asian</th>\n",
       "      <th>race_Caucasian</th>\n",
       "      <th>...</th>\n",
       "      <th>admission_source_id_Physician Referral</th>\n",
       "      <th>admission_source_id_Sick Baby</th>\n",
       "      <th>admission_source_id_Transfer From Another Home Health Agency</th>\n",
       "      <th>admission_source_id_Transfer from Hospice</th>\n",
       "      <th>admission_source_id_Transfer from a Skilled Nursing Facility (SNF)</th>\n",
       "      <th>admission_source_id_Transfer from a hospital</th>\n",
       "      <th>admission_source_id_Transfer from another health care facility</th>\n",
       "      <th>admission_source_id_Transfer from critial access hospital</th>\n",
       "      <th>admission_source_id_Unknown/Invalid</th>\n",
       "      <th>age_group</th>\n",
       "    </tr>\n",
       "  </thead>\n",
       "  <tbody>\n",
       "    <tr>\n",
       "      <th>0</th>\n",
       "      <td>2</td>\n",
       "      <td>11</td>\n",
       "      <td>5</td>\n",
       "      <td>13</td>\n",
       "      <td>2</td>\n",
       "      <td>0</td>\n",
       "      <td>1</td>\n",
       "      <td>6</td>\n",
       "      <td>0</td>\n",
       "      <td>0</td>\n",
       "      <td>...</td>\n",
       "      <td>0</td>\n",
       "      <td>0</td>\n",
       "      <td>0</td>\n",
       "      <td>0</td>\n",
       "      <td>0</td>\n",
       "      <td>0</td>\n",
       "      <td>0</td>\n",
       "      <td>0</td>\n",
       "      <td>0</td>\n",
       "      <td>20</td>\n",
       "    </tr>\n",
       "  </tbody>\n",
       "</table>\n",
       "<p>1 rows × 115 columns</p>\n",
       "</div>"
      ],
      "text/plain": [
       "   time_in_hospital  num_lab_procedures  num_procedures  num_medications  \\\n",
       "0                 2                  11               5               13   \n",
       "\n",
       "   number_outpatient  number_emergency  number_inpatient  number_diagnoses  \\\n",
       "0                  2                 0                 1                 6   \n",
       "\n",
       "   race_Asian  race_Caucasian    ...      \\\n",
       "0           0               0    ...       \n",
       "\n",
       "   admission_source_id_Physician Referral  admission_source_id_Sick Baby  \\\n",
       "0                                       0                              0   \n",
       "\n",
       "   admission_source_id_Transfer From Another Home Health Agency  \\\n",
       "0                                                  0              \n",
       "\n",
       "   admission_source_id_Transfer from Hospice  \\\n",
       "0                                          0   \n",
       "\n",
       "   admission_source_id_Transfer from a Skilled Nursing Facility (SNF)  \\\n",
       "0                                                  0                    \n",
       "\n",
       "   admission_source_id_Transfer from a hospital  \\\n",
       "0                                             0   \n",
       "\n",
       "   admission_source_id_Transfer from another health care facility  \\\n",
       "0                                                  0                \n",
       "\n",
       "   admission_source_id_Transfer from critial access hospital  \\\n",
       "0                                                  0           \n",
       "\n",
       "   admission_source_id_Unknown/Invalid  age_group  \n",
       "0                                    0         20  \n",
       "\n",
       "[1 rows x 115 columns]"
      ]
     },
     "execution_count": 132,
     "metadata": {},
     "output_type": "execute_result"
    }
   ],
   "source": []
  },
  {
   "cell_type": "code",
   "execution_count": 133,
   "metadata": {},
   "outputs": [
    {
     "name": "stdout",
     "output_type": "stream",
     "text": [
      "[1]\n"
     ]
    }
   ],
   "source": []
  },
  {
   "cell_type": "code",
   "execution_count": 134,
   "metadata": {},
   "outputs": [
    {
     "data": {
      "text/plain": [
       "LogisticRegression(C=1.0, class_weight=None, dual=False, fit_intercept=True,\n",
       "          intercept_scaling=1, max_iter=100, multi_class='ovr', n_jobs=1,\n",
       "          penalty='l2', random_state=42, solver='liblinear', tol=0.0001,\n",
       "          verbose=0, warm_start=False)"
      ]
     },
     "execution_count": 134,
     "metadata": {},
     "output_type": "execute_result"
    }
   ],
   "source": [
    "from sklearn.linear_model import LogisticRegression\n",
    "lr=LogisticRegression(random_state = 42)\n",
    "lr.fit(X_train, y_train)"
   ]
  },
  {
   "cell_type": "code",
   "execution_count": 135,
   "metadata": {},
   "outputs": [
    {
     "name": "stdout",
     "output_type": "stream",
     "text": [
      "Logistic Regression\n",
      "Training:\n",
      "AUC:0.674\n",
      "accuracy:0.627\n",
      "recall:0.470\n",
      "precision:0.640\n",
      "specificity:0.766\n",
      "prevalence:0.470\n",
      " \n",
      "Validation:\n",
      "AUC:0.668\n",
      "accuracy:0.618\n",
      "recall:0.457\n",
      "precision:0.640\n",
      "specificity:0.766\n",
      "prevalence:0.477\n",
      " \n"
     ]
    }
   ],
   "source": [
    "\n",
    "y_train_preds = lr.predict_proba(X_train)[:,1]\n",
    "y_valid_preds = lr.predict_proba(X_valid)[:,1]\n",
    "\n",
    "print('Logistic Regression')\n",
    "print('Training:')\n",
    "lr_train_auc, lr_train_accuracy, lr_train_recall, \\\n",
    "    lr_train_precision, lr_train_specificity = print_report(y_train,y_train_preds, thresh)\n",
    "print('Validation:')\n",
    "lr_valid_auc, lr_valid_accuracy, lr_valid_recall, \\\n",
    "    lr_valid_precision, lr_valid_specificity = print_report(y_valid,y_valid_preds, thresh)"
   ]
  },
  {
   "cell_type": "code",
   "execution_count": 137,
   "metadata": {},
   "outputs": [
    {
     "name": "stdout",
     "output_type": "stream",
     "text": [
      "[0]\n"
     ]
    }
   ],
   "source": []
  },
  {
   "cell_type": "code",
   "execution_count": 128,
   "metadata": {},
   "outputs": [
    {
     "data": {
      "text/plain": [
       "RandomForestClassifier(bootstrap=True, class_weight=None, criterion='gini',\n",
       "            max_depth=6, max_features='auto', max_leaf_nodes=None,\n",
       "            min_impurity_decrease=0.0, min_impurity_split=None,\n",
       "            min_samples_leaf=1, min_samples_split=2,\n",
       "            min_weight_fraction_leaf=0.0, n_estimators=10, n_jobs=1,\n",
       "            oob_score=False, random_state=42, verbose=0, warm_start=False)"
      ]
     },
     "execution_count": 128,
     "metadata": {},
     "output_type": "execute_result"
    }
   ],
   "source": [
    "from sklearn.ensemble import RandomForestClassifier\n",
    "rf=RandomForestClassifier(max_depth = 6, random_state = 42)\n",
    "rf.fit(X_train, y_train)"
   ]
  },
  {
   "cell_type": "code",
   "execution_count": 129,
   "metadata": {},
   "outputs": [
    {
     "name": "stdout",
     "output_type": "stream",
     "text": [
      "Random Forest\n",
      "Training:\n",
      "AUC:0.672\n",
      "accuracy:0.470\n",
      "recall:1.000\n",
      "precision:0.470\n",
      "specificity:0.000\n",
      "prevalence:0.470\n",
      " \n",
      "Validation:\n",
      "AUC:0.660\n",
      "accuracy:0.477\n",
      "recall:1.000\n",
      "precision:0.477\n",
      "specificity:0.000\n",
      "prevalence:0.477\n",
      " \n"
     ]
    }
   ],
   "source": [
    "\n",
    "y_train_preds = rf.predict_proba(X_train)[:,1]\n",
    "y_valid_preds = rf.predict_proba(X_valid)[:,1]\n",
    "\n",
    "print('Random Forest')\n",
    "print('Training:')\n",
    "rf_train_auc, rf_train_accuracy, rf_train_recall, rf_train_precision, rf_train_specificity =print_report(y_train,y_train_preds, 0.25)\n",
    "print('Validation:')\n",
    "rf_valid_auc, rf_valid_accuracy, rf_valid_recall, rf_valid_precision, rf_valid_specificity = print_report(y_valid,y_valid_preds, 0.25)"
   ]
  },
  {
   "cell_type": "code",
   "execution_count": 139,
   "metadata": {},
   "outputs": [
    {
     "name": "stdout",
     "output_type": "stream",
     "text": [
      "[1]\n"
     ]
    }
   ],
   "source": []
  },
  {
   "cell_type": "code",
   "execution_count": 140,
   "metadata": {},
   "outputs": [
    {
     "data": {
      "text/plain": [
       "SVC(C=1.0, cache_size=200, class_weight=None, coef0=0.0,\n",
       "  decision_function_shape='ovr', degree=3, gamma='auto', kernel='sigmoid',\n",
       "  max_iter=-1, probability=False, random_state=None, shrinking=True,\n",
       "  tol=0.001, verbose=False)"
      ]
     },
     "execution_count": 140,
     "metadata": {},
     "output_type": "execute_result"
    }
   ],
   "source": [
    "from sklearn.svm import SVC\n",
    "sv = SVC(kernel = 'sigmoid')\n",
    "sv.fit(X_train,y_train)"
   ]
  },
  {
   "cell_type": "code",
   "execution_count": 141,
   "metadata": {},
   "outputs": [
    {
     "name": "stdout",
     "output_type": "stream",
     "text": [
      "Support Vector Machine\n",
      "Training:\n",
      "AUC:0.471\n",
      "accuracy:0.488\n",
      "recall:0.204\n",
      "precision:0.409\n",
      "specificity:0.739\n",
      "prevalence:0.470\n",
      " \n",
      "Validation:\n",
      "AUC:0.476\n",
      "accuracy:0.488\n",
      "recall:0.218\n",
      "precision:0.429\n",
      "specificity:0.735\n",
      "prevalence:0.477\n",
      " \n"
     ]
    }
   ],
   "source": [
    "y_train_preds = sv.predict(X_train)\n",
    "y_valid_preds = sv.predict(X_valid)\n",
    "\n",
    "print('Support Vector Machine')\n",
    "print('Training:')\n",
    "rf_train_auc, rf_train_accuracy, rf_train_recall, rf_train_precision, rf_train_specificity =print_report(y_train,y_train_preds, 0.25)\n",
    "print('Validation:')\n",
    "rf_valid_auc, rf_valid_accuracy, rf_valid_recall, rf_valid_precision, rf_valid_specificity = print_report(y_valid,y_valid_preds, 0.25)"
   ]
  },
  {
   "cell_type": "code",
   "execution_count": 143,
   "metadata": {},
   "outputs": [
    {
     "name": "stdout",
     "output_type": "stream",
     "text": [
      "(1, 44)\n",
      "(1, 121)\n",
      "[0]\n",
      "[0]\n",
      "[0]\n",
      "[0]\n"
     ]
    }
   ],
   "source": [
    "df_s = pd.read_csv('result.csv',index_col=False)\n",
    "dfk=preprocess(df_s)\n",
    "print(sv.predict(dfk))\n",
    "print(rf.predict(dfk))\n",
    "print(lr.predict(dfk))\n",
    "print(tree.predict(dfk))"
   ]
  },
  {
   "cell_type": "code",
   "execution_count": 144,
   "metadata": {},
   "outputs": [
    {
     "data": {
      "text/plain": [
       "['model_svm.pkl']"
      ]
     },
     "execution_count": 144,
     "metadata": {},
     "output_type": "execute_result"
    }
   ],
   "source": [
    "import pickle\n",
    "from sklearn.externals import joblib\n",
    "joblib.dump(sv, 'model_svm.pkl')"
   ]
  },
  {
   "cell_type": "code",
   "execution_count": 145,
   "metadata": {},
   "outputs": [
    {
     "name": "stdout",
     "output_type": "stream",
     "text": [
      "[0]\n"
     ]
    }
   ],
   "source": [
    "svm1 = joblib.load('model_svm.pkl')\n",
    "print(svm1.predict(dfk))"
   ]
  },
  {
   "cell_type": "code",
   "execution_count": 146,
   "metadata": {},
   "outputs": [
    {
     "data": {
      "text/plain": [
       "['model_lr.pkl']"
      ]
     },
     "execution_count": 146,
     "metadata": {},
     "output_type": "execute_result"
    }
   ],
   "source": [
    "joblib.dump(tree, 'model_tree.pkl')\n",
    "joblib.dump(rf, 'model_rf.pkl')\n",
    "joblib.dump(lr, 'model_lr.pkl')"
   ]
  },
  {
   "cell_type": "code",
   "execution_count": null,
   "metadata": {},
   "outputs": [],
   "source": []
  }
 ],
 "metadata": {
  "kernelspec": {
   "display_name": "Python 3",
   "language": "python",
   "name": "python3"
  },
  "language_info": {
   "codemirror_mode": {
    "name": "ipython",
    "version": 3
   },
   "file_extension": ".py",
   "mimetype": "text/x-python",
   "name": "python",
   "nbconvert_exporter": "python",
   "pygments_lexer": "ipython3",
   "version": "3.7.3"
  }
 },
 "nbformat": 4,
 "nbformat_minor": 4
}
